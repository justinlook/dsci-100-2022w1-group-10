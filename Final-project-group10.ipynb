{
 "cells": [
  {
   "cell_type": "code",
   "execution_count": 1,
   "id": "1674e9f8-66d7-49e6-b7fd-975770018df6",
   "metadata": {},
   "outputs": [
    {
     "name": "stderr",
     "output_type": "stream",
     "text": [
      "Updating HTML index of packages in '.Library'\n",
      "\n",
      "Making 'packages.html' ...\n",
      " done\n",
      "\n"
     ]
    }
   ],
   "source": [
    "install.packages(\"themis\")"
   ]
  },
  {
   "cell_type": "code",
   "execution_count": 2,
   "id": "045422d8-e044-4726-ba40-1c13207b85f5",
   "metadata": {},
   "outputs": [
    {
     "name": "stderr",
     "output_type": "stream",
     "text": [
      "── \u001b[1mAttaching packages\u001b[22m ─────────────────────────────────────── tidyverse 1.3.1 ──\n",
      "\n",
      "\u001b[32m✔\u001b[39m \u001b[34mggplot2\u001b[39m 3.3.6     \u001b[32m✔\u001b[39m \u001b[34mpurrr  \u001b[39m 0.3.4\n",
      "\u001b[32m✔\u001b[39m \u001b[34mtibble \u001b[39m 3.1.7     \u001b[32m✔\u001b[39m \u001b[34mdplyr  \u001b[39m 1.0.9\n",
      "\u001b[32m✔\u001b[39m \u001b[34mtidyr  \u001b[39m 1.2.0     \u001b[32m✔\u001b[39m \u001b[34mstringr\u001b[39m 1.4.0\n",
      "\u001b[32m✔\u001b[39m \u001b[34mreadr  \u001b[39m 2.1.2     \u001b[32m✔\u001b[39m \u001b[34mforcats\u001b[39m 0.5.1\n",
      "\n",
      "── \u001b[1mConflicts\u001b[22m ────────────────────────────────────────── tidyverse_conflicts() ──\n",
      "\u001b[31m✖\u001b[39m \u001b[34mdplyr\u001b[39m::\u001b[32mfilter()\u001b[39m masks \u001b[34mstats\u001b[39m::filter()\n",
      "\u001b[31m✖\u001b[39m \u001b[34mdplyr\u001b[39m::\u001b[32mlag()\u001b[39m    masks \u001b[34mstats\u001b[39m::lag()\n",
      "\n",
      "── \u001b[1mAttaching packages\u001b[22m ────────────────────────────────────── tidymodels 1.0.0 ──\n",
      "\n",
      "\u001b[32m✔\u001b[39m \u001b[34mbroom       \u001b[39m 1.0.0     \u001b[32m✔\u001b[39m \u001b[34mrsample     \u001b[39m 1.0.0\n",
      "\u001b[32m✔\u001b[39m \u001b[34mdials       \u001b[39m 1.0.0     \u001b[32m✔\u001b[39m \u001b[34mtune        \u001b[39m 1.0.0\n",
      "\u001b[32m✔\u001b[39m \u001b[34minfer       \u001b[39m 1.0.2     \u001b[32m✔\u001b[39m \u001b[34mworkflows   \u001b[39m 1.0.0\n",
      "\u001b[32m✔\u001b[39m \u001b[34mmodeldata   \u001b[39m 1.0.0     \u001b[32m✔\u001b[39m \u001b[34mworkflowsets\u001b[39m 1.0.0\n",
      "\u001b[32m✔\u001b[39m \u001b[34mparsnip     \u001b[39m 1.0.0     \u001b[32m✔\u001b[39m \u001b[34myardstick   \u001b[39m 1.0.0\n",
      "\u001b[32m✔\u001b[39m \u001b[34mrecipes     \u001b[39m 1.0.1     \n",
      "\n",
      "── \u001b[1mConflicts\u001b[22m ───────────────────────────────────────── tidymodels_conflicts() ──\n",
      "\u001b[31m✖\u001b[39m \u001b[34mscales\u001b[39m::\u001b[32mdiscard()\u001b[39m masks \u001b[34mpurrr\u001b[39m::discard()\n",
      "\u001b[31m✖\u001b[39m \u001b[34mdplyr\u001b[39m::\u001b[32mfilter()\u001b[39m   masks \u001b[34mstats\u001b[39m::filter()\n",
      "\u001b[31m✖\u001b[39m \u001b[34mrecipes\u001b[39m::\u001b[32mfixed()\u001b[39m  masks \u001b[34mstringr\u001b[39m::fixed()\n",
      "\u001b[31m✖\u001b[39m \u001b[34mdplyr\u001b[39m::\u001b[32mlag()\u001b[39m      masks \u001b[34mstats\u001b[39m::lag()\n",
      "\u001b[31m✖\u001b[39m \u001b[34myardstick\u001b[39m::\u001b[32mspec()\u001b[39m masks \u001b[34mreadr\u001b[39m::spec()\n",
      "\u001b[31m✖\u001b[39m \u001b[34mrecipes\u001b[39m::\u001b[32mstep()\u001b[39m   masks \u001b[34mstats\u001b[39m::step()\n",
      "\u001b[34m•\u001b[39m Search for functions across packages at \u001b[32mhttps://www.tidymodels.org/find/\u001b[39m\n",
      "\n"
     ]
    }
   ],
   "source": [
    "## run this first!\n",
    "\n",
    "library(tidyverse)\n",
    "library(tidymodels)\n",
    "library(themis)\n",
    "library(repr)\n",
    "library(cowplot)\n",
    "\n",
    "options(repr.matrix.max.rows=10)"
   ]
  },
  {
   "cell_type": "markdown",
   "id": "b8c10aab-c7a5-4808-8039-7c918bb1d0a6",
   "metadata": {
    "tags": []
   },
   "source": [
    "# Final Project: Optimized Classifier: Assessment of Regional Predictor Differences and Influence on Heart Disease Diagnoses  "
   ]
  },
  {
   "cell_type": "markdown",
   "id": "613422b0-ea6d-46ee-9cd2-a60e94ab2876",
   "metadata": {
    "tags": []
   },
   "source": [
    "### Introduction\n",
    "The heart disease data includes datasets from Cleveland, California, Budapest, and Zurich. We will focus on Cleveland and Budapest because it is the most complete. Out of the 14 variables, 9 are categorical variables, variables that we can potentially predict by building a classifier.  \n",
    "\n",
    "However, fasting blood pressure (fbs),  resting electrocardiographic results (restecg), the slope of the peak exercise ST segment (slope), number of major vessels (ca), reversible defect (thal) are objectively measured values and would be simpler to measure than predict.  \n",
    "\n",
    "Predicting sex (sex) based on heart predictors diverges from the topic and could raise moral and ethical issues. Building a classifier to predict Chest pain type is not benefitial to the healthcare system, more on this through data visualizations in chest pain type frequency in Cleveland and Hungary bar plots.\n",
    "\n",
    "CT scans to see potential blockages in arteries as a method of preventative care are avoided by public healthcare systems or costly with private healthcare. An accurate predictor could serve as a cheaper and more efficient alternative. There’s a dearth in understanding of whether optimal accuracy is achieved by building individual classifiers per region or by accumulating a large training set.\n",
    "\n",
    "Preliminarily, numerical indicators include age, resting blood pressure(trestbps), serum cholesterol levels (chol), maximum heart rate achieved (thalach), and ST depression induced by exercise relative to rest (oldpeak).\n",
    "\n",
    "We will aim to answer the following research question using numerical predictors:\n",
    "\n",
    "1. Are all numerical predictors relevant to building an optimally accurate classifier? If not, which ones should we remove?\n",
    "\n",
    "Also briefly touch upon this one in exploratory analysis.\n",
    "\n",
    "2. How does the frequency distribution of predictors change in Cleveland versus Hungary datasets?  "
   ]
  },
  {
   "cell_type": "markdown",
   "id": "4395c369-c4ea-4f52-adb6-e65e56645721",
   "metadata": {},
   "source": [
    "## Preliminary Exploratory Data Analysis\n",
    "### Reading, Tidying, and Wrangling Data"
   ]
  },
  {
   "cell_type": "markdown",
   "id": "88c664af-b87e-406b-84ec-54a7ab881917",
   "metadata": {},
   "source": [
    "Firstly, we read two datasets(processed.cleveland.data & reprocessed.hungarian.data) directly from the web, gave every column a specific header name, selected the columns we are interested in, and converted every column into the correct and most appropriate data type. Then, all of the datasets are in a tidy format. \n",
    "\n",
    "Secondly, we split every dataset into a training set and a testing set with strata = num, ensuring that roughly the same proportion of 0 and 1(0 means no diagnosis; 1 means diagnosed) ends up in both training and testing sets. In the following steps, we will only analyze, summarize, and visualize the training sets of the two datasets."
   ]
  },
  {
   "cell_type": "code",
   "execution_count": 3,
   "id": "59113927-20f5-4770-b1ea-e2345d8f6702",
   "metadata": {},
   "outputs": [
    {
     "name": "stderr",
     "output_type": "stream",
     "text": [
      "\u001b[1mRows: \u001b[22m\u001b[34m303\u001b[39m \u001b[1mColumns: \u001b[22m\u001b[34m14\u001b[39m\n",
      "\u001b[36m──\u001b[39m \u001b[1mColumn specification\u001b[22m \u001b[36m────────────────────────────────────────────────────────\u001b[39m\n",
      "\u001b[1mDelimiter:\u001b[22m \",\"\n",
      "\u001b[31mchr\u001b[39m  (2): ca, thal\n",
      "\u001b[32mdbl\u001b[39m (12): age, sex, cp, trestbps, chol, fbs, restecg, thalach, exang, oldpea...\n",
      "\n",
      "\u001b[36mℹ\u001b[39m Use `spec()` to retrieve the full column specification for this data.\n",
      "\u001b[36mℹ\u001b[39m Specify the column types or set `show_col_types = FALSE` to quiet this message.\n"
     ]
    },
    {
     "data": {
      "text/html": [
       "<table class=\"dataframe\">\n",
       "<caption>A tibble: 164 × 8</caption>\n",
       "<thead>\n",
       "\t<tr><th scope=col>age</th><th scope=col>sex</th><th scope=col>cp</th><th scope=col>trestbps</th><th scope=col>chol</th><th scope=col>thalach</th><th scope=col>oldpeak</th><th scope=col>num</th></tr>\n",
       "\t<tr><th scope=col>&lt;int&gt;</th><th scope=col>&lt;fct&gt;</th><th scope=col>&lt;fct&gt;</th><th scope=col>&lt;dbl&gt;</th><th scope=col>&lt;dbl&gt;</th><th scope=col>&lt;dbl&gt;</th><th scope=col>&lt;dbl&gt;</th><th scope=col>&lt;fct&gt;</th></tr>\n",
       "</thead>\n",
       "<tbody>\n",
       "\t<tr><td>63</td><td>1</td><td>1</td><td>145</td><td>233</td><td>150</td><td>2.3</td><td>0</td></tr>\n",
       "\t<tr><td>37</td><td>1</td><td>3</td><td>130</td><td>250</td><td>187</td><td>3.5</td><td>0</td></tr>\n",
       "\t<tr><td>41</td><td>0</td><td>2</td><td>130</td><td>204</td><td>172</td><td>1.4</td><td>0</td></tr>\n",
       "\t<tr><td>56</td><td>1</td><td>2</td><td>120</td><td>236</td><td>178</td><td>0.8</td><td>0</td></tr>\n",
       "\t<tr><td>57</td><td>0</td><td>4</td><td>120</td><td>354</td><td>163</td><td>0.6</td><td>0</td></tr>\n",
       "\t<tr><td>⋮</td><td>⋮</td><td>⋮</td><td>⋮</td><td>⋮</td><td>⋮</td><td>⋮</td><td>⋮</td></tr>\n",
       "\t<tr><td>67</td><td>1</td><td>3</td><td>152</td><td>212</td><td>150</td><td>0.8</td><td>1</td></tr>\n",
       "\t<tr><td>63</td><td>0</td><td>4</td><td>124</td><td>197</td><td>136</td><td>0.0</td><td>1</td></tr>\n",
       "\t<tr><td>57</td><td>0</td><td>4</td><td>140</td><td>241</td><td>123</td><td>0.2</td><td>1</td></tr>\n",
       "\t<tr><td>45</td><td>1</td><td>1</td><td>110</td><td>264</td><td>132</td><td>1.2</td><td>1</td></tr>\n",
       "\t<tr><td>57</td><td>0</td><td>2</td><td>130</td><td>236</td><td>174</td><td>0.0</td><td>1</td></tr>\n",
       "</tbody>\n",
       "</table>\n"
      ],
      "text/latex": [
       "A tibble: 164 × 8\n",
       "\\begin{tabular}{llllllll}\n",
       " age & sex & cp & trestbps & chol & thalach & oldpeak & num\\\\\n",
       " <int> & <fct> & <fct> & <dbl> & <dbl> & <dbl> & <dbl> & <fct>\\\\\n",
       "\\hline\n",
       "\t 63 & 1 & 1 & 145 & 233 & 150 & 2.3 & 0\\\\\n",
       "\t 37 & 1 & 3 & 130 & 250 & 187 & 3.5 & 0\\\\\n",
       "\t 41 & 0 & 2 & 130 & 204 & 172 & 1.4 & 0\\\\\n",
       "\t 56 & 1 & 2 & 120 & 236 & 178 & 0.8 & 0\\\\\n",
       "\t 57 & 0 & 4 & 120 & 354 & 163 & 0.6 & 0\\\\\n",
       "\t ⋮ & ⋮ & ⋮ & ⋮ & ⋮ & ⋮ & ⋮ & ⋮\\\\\n",
       "\t 67 & 1 & 3 & 152 & 212 & 150 & 0.8 & 1\\\\\n",
       "\t 63 & 0 & 4 & 124 & 197 & 136 & 0.0 & 1\\\\\n",
       "\t 57 & 0 & 4 & 140 & 241 & 123 & 0.2 & 1\\\\\n",
       "\t 45 & 1 & 1 & 110 & 264 & 132 & 1.2 & 1\\\\\n",
       "\t 57 & 0 & 2 & 130 & 236 & 174 & 0.0 & 1\\\\\n",
       "\\end{tabular}\n"
      ],
      "text/markdown": [
       "\n",
       "A tibble: 164 × 8\n",
       "\n",
       "| age &lt;int&gt; | sex &lt;fct&gt; | cp &lt;fct&gt; | trestbps &lt;dbl&gt; | chol &lt;dbl&gt; | thalach &lt;dbl&gt; | oldpeak &lt;dbl&gt; | num &lt;fct&gt; |\n",
       "|---|---|---|---|---|---|---|---|\n",
       "| 63 | 1 | 1 | 145 | 233 | 150 | 2.3 | 0 |\n",
       "| 37 | 1 | 3 | 130 | 250 | 187 | 3.5 | 0 |\n",
       "| 41 | 0 | 2 | 130 | 204 | 172 | 1.4 | 0 |\n",
       "| 56 | 1 | 2 | 120 | 236 | 178 | 0.8 | 0 |\n",
       "| 57 | 0 | 4 | 120 | 354 | 163 | 0.6 | 0 |\n",
       "| ⋮ | ⋮ | ⋮ | ⋮ | ⋮ | ⋮ | ⋮ | ⋮ |\n",
       "| 67 | 1 | 3 | 152 | 212 | 150 | 0.8 | 1 |\n",
       "| 63 | 0 | 4 | 124 | 197 | 136 | 0.0 | 1 |\n",
       "| 57 | 0 | 4 | 140 | 241 | 123 | 0.2 | 1 |\n",
       "| 45 | 1 | 1 | 110 | 264 | 132 | 1.2 | 1 |\n",
       "| 57 | 0 | 2 | 130 | 236 | 174 | 0.0 | 1 |\n",
       "\n"
      ],
      "text/plain": [
       "    age sex cp trestbps chol thalach oldpeak num\n",
       "1   63  1   1  145      233  150     2.3     0  \n",
       "2   37  1   3  130      250  187     3.5     0  \n",
       "3   41  0   2  130      204  172     1.4     0  \n",
       "4   56  1   2  120      236  178     0.8     0  \n",
       "5   57  0   4  120      354  163     0.6     0  \n",
       "⋮   ⋮   ⋮   ⋮  ⋮        ⋮    ⋮       ⋮       ⋮  \n",
       "160 67  1   3  152      212  150     0.8     1  \n",
       "161 63  0   4  124      197  136     0.0     1  \n",
       "162 57  0   4  140      241  123     0.2     1  \n",
       "163 45  1   1  110      264  132     1.2     1  \n",
       "164 57  0   2  130      236  174     0.0     1  "
      ]
     },
     "metadata": {},
     "output_type": "display_data"
    }
   ],
   "source": [
    "set.seed(18)\n",
    "con_names1<-c(\"age\",\"sex\",\"cp\",\"trestbps\",\"chol\",\"fbs\",\"restecg\",\"thalach\",\"exang\", \"oldpeak\",\"slope\",\"ca\",\"thal\",\"num\")\n",
    "heart_cleveland<-read_csv(\"https://archive.ics.uci.edu/ml/machine-learning-databases/heart-disease/processed.cleveland.data\",\n",
    "                           col_names = con_names1)\n",
    "\n",
    "cleveland_mutate<-heart_cleveland|>\n",
    "filter(num==0|num==1)|>\n",
    "select(age,sex,cp,trestbps,chol,thalach,oldpeak,num)|>\n",
    "mutate(age=as.integer(age))|>\n",
    "mutate(num=as.factor(num))|>\n",
    "mutate(cp=as.factor(cp))|>\n",
    "mutate(sex=as.factor(sex))|>\n",
    "mutate(trestbps=as.double(trestbps))|>\n",
    "mutate(thalach=as.double(thalach))|>\n",
    "mutate(oldpeak=as.double(oldpeak))\n",
    "\n",
    "cleveland_split <- initial_split(cleveland_mutate, prop = 0.75, strata = num)\n",
    "cleveland_training <- training(cleveland_split)\n",
    "cleveland_testing <- testing(cleveland_split)\n",
    "\n",
    "cleveland_training #print training data"
   ]
  },
  {
   "cell_type": "code",
   "execution_count": 4,
   "id": "b337e0b7-c361-4b64-aac5-d74acdfd0204",
   "metadata": {},
   "outputs": [
    {
     "data": {
      "text/html": [
       "<table class=\"dataframe\">\n",
       "<caption>A data.frame: 1 × 1</caption>\n",
       "<thead>\n",
       "\t<tr><th scope=col>n</th></tr>\n",
       "\t<tr><th scope=col>&lt;dbl&gt;</th></tr>\n",
       "</thead>\n",
       "<tbody>\n",
       "\t<tr><td>0.2511416</td></tr>\n",
       "</tbody>\n",
       "</table>\n"
      ],
      "text/latex": [
       "A data.frame: 1 × 1\n",
       "\\begin{tabular}{l}\n",
       " n\\\\\n",
       " <dbl>\\\\\n",
       "\\hline\n",
       "\t 0.2511416\\\\\n",
       "\\end{tabular}\n"
      ],
      "text/markdown": [
       "\n",
       "A data.frame: 1 × 1\n",
       "\n",
       "| n &lt;dbl&gt; |\n",
       "|---|\n",
       "| 0.2511416 |\n",
       "\n"
      ],
      "text/plain": [
       "  n        \n",
       "1 0.2511416"
      ]
     },
     "metadata": {},
     "output_type": "display_data"
    }
   ],
   "source": [
    "summary <- cleveland_mutate|>\n",
    "summarize(n= sum(num==1))/nrow(cleveland_mutate)\n",
    "\n",
    "summary\n"
   ]
  },
  {
   "cell_type": "code",
   "execution_count": 5,
   "id": "02b87f59-48cc-4973-b7ec-908f967dbdff",
   "metadata": {},
   "outputs": [
    {
     "name": "stderr",
     "output_type": "stream",
     "text": [
      "\u001b[1mRows: \u001b[22m\u001b[34m294\u001b[39m \u001b[1mColumns: \u001b[22m\u001b[34m14\u001b[39m\n",
      "\u001b[36m──\u001b[39m \u001b[1mColumn specification\u001b[22m \u001b[36m────────────────────────────────────────────────────────\u001b[39m\n",
      "\u001b[1mDelimiter:\u001b[22m \" \"\n",
      "\u001b[32mdbl\u001b[39m (14): age, sex, cp, trestbps, chol, fbs, restecg, thalach, exang, oldpea...\n",
      "\n",
      "\u001b[36mℹ\u001b[39m Use `spec()` to retrieve the full column specification for this data.\n",
      "\u001b[36mℹ\u001b[39m Specify the column types or set `show_col_types = FALSE` to quiet this message.\n"
     ]
    },
    {
     "data": {
      "text/html": [
       "<table class=\"dataframe\">\n",
       "<caption>A tibble: 168 × 8</caption>\n",
       "<thead>\n",
       "\t<tr><th scope=col>age</th><th scope=col>sex</th><th scope=col>cp</th><th scope=col>trestbps</th><th scope=col>chol</th><th scope=col>thalach</th><th scope=col>oldpeak</th><th scope=col>num</th></tr>\n",
       "\t<tr><th scope=col>&lt;int&gt;</th><th scope=col>&lt;fct&gt;</th><th scope=col>&lt;fct&gt;</th><th scope=col>&lt;dbl&gt;</th><th scope=col>&lt;dbl&gt;</th><th scope=col>&lt;dbl&gt;</th><th scope=col>&lt;dbl&gt;</th><th scope=col>&lt;fct&gt;</th></tr>\n",
       "</thead>\n",
       "<tbody>\n",
       "\t<tr><td>40</td><td>1</td><td>2</td><td>140</td><td>289</td><td>172</td><td>0</td><td>0</td></tr>\n",
       "\t<tr><td>37</td><td>1</td><td>2</td><td>130</td><td>283</td><td> 98</td><td>0</td><td>0</td></tr>\n",
       "\t<tr><td>54</td><td>1</td><td>3</td><td>150</td><td> -9</td><td>122</td><td>0</td><td>0</td></tr>\n",
       "\t<tr><td>39</td><td>1</td><td>3</td><td>120</td><td>339</td><td>170</td><td>0</td><td>0</td></tr>\n",
       "\t<tr><td>45</td><td>0</td><td>2</td><td>130</td><td>237</td><td>170</td><td>0</td><td>0</td></tr>\n",
       "\t<tr><td>⋮</td><td>⋮</td><td>⋮</td><td>⋮</td><td>⋮</td><td>⋮</td><td>⋮</td><td>⋮</td></tr>\n",
       "\t<tr><td>50</td><td>1</td><td>4</td><td>145</td><td>264</td><td>150</td><td>0.0</td><td>1</td></tr>\n",
       "\t<tr><td>38</td><td>1</td><td>4</td><td> 92</td><td>117</td><td>134</td><td>2.5</td><td>1</td></tr>\n",
       "\t<tr><td>48</td><td>1</td><td>4</td><td>160</td><td>268</td><td>103</td><td>1.0</td><td>1</td></tr>\n",
       "\t<tr><td>47</td><td>1</td><td>3</td><td>140</td><td>193</td><td>145</td><td>1.0</td><td>1</td></tr>\n",
       "\t<tr><td>55</td><td>1</td><td>4</td><td>140</td><td>201</td><td>130</td><td>3.0</td><td>1</td></tr>\n",
       "</tbody>\n",
       "</table>\n"
      ],
      "text/latex": [
       "A tibble: 168 × 8\n",
       "\\begin{tabular}{llllllll}\n",
       " age & sex & cp & trestbps & chol & thalach & oldpeak & num\\\\\n",
       " <int> & <fct> & <fct> & <dbl> & <dbl> & <dbl> & <dbl> & <fct>\\\\\n",
       "\\hline\n",
       "\t 40 & 1 & 2 & 140 & 289 & 172 & 0 & 0\\\\\n",
       "\t 37 & 1 & 2 & 130 & 283 &  98 & 0 & 0\\\\\n",
       "\t 54 & 1 & 3 & 150 &  -9 & 122 & 0 & 0\\\\\n",
       "\t 39 & 1 & 3 & 120 & 339 & 170 & 0 & 0\\\\\n",
       "\t 45 & 0 & 2 & 130 & 237 & 170 & 0 & 0\\\\\n",
       "\t ⋮ & ⋮ & ⋮ & ⋮ & ⋮ & ⋮ & ⋮ & ⋮\\\\\n",
       "\t 50 & 1 & 4 & 145 & 264 & 150 & 0.0 & 1\\\\\n",
       "\t 38 & 1 & 4 &  92 & 117 & 134 & 2.5 & 1\\\\\n",
       "\t 48 & 1 & 4 & 160 & 268 & 103 & 1.0 & 1\\\\\n",
       "\t 47 & 1 & 3 & 140 & 193 & 145 & 1.0 & 1\\\\\n",
       "\t 55 & 1 & 4 & 140 & 201 & 130 & 3.0 & 1\\\\\n",
       "\\end{tabular}\n"
      ],
      "text/markdown": [
       "\n",
       "A tibble: 168 × 8\n",
       "\n",
       "| age &lt;int&gt; | sex &lt;fct&gt; | cp &lt;fct&gt; | trestbps &lt;dbl&gt; | chol &lt;dbl&gt; | thalach &lt;dbl&gt; | oldpeak &lt;dbl&gt; | num &lt;fct&gt; |\n",
       "|---|---|---|---|---|---|---|---|\n",
       "| 40 | 1 | 2 | 140 | 289 | 172 | 0 | 0 |\n",
       "| 37 | 1 | 2 | 130 | 283 |  98 | 0 | 0 |\n",
       "| 54 | 1 | 3 | 150 |  -9 | 122 | 0 | 0 |\n",
       "| 39 | 1 | 3 | 120 | 339 | 170 | 0 | 0 |\n",
       "| 45 | 0 | 2 | 130 | 237 | 170 | 0 | 0 |\n",
       "| ⋮ | ⋮ | ⋮ | ⋮ | ⋮ | ⋮ | ⋮ | ⋮ |\n",
       "| 50 | 1 | 4 | 145 | 264 | 150 | 0.0 | 1 |\n",
       "| 38 | 1 | 4 |  92 | 117 | 134 | 2.5 | 1 |\n",
       "| 48 | 1 | 4 | 160 | 268 | 103 | 1.0 | 1 |\n",
       "| 47 | 1 | 3 | 140 | 193 | 145 | 1.0 | 1 |\n",
       "| 55 | 1 | 4 | 140 | 201 | 130 | 3.0 | 1 |\n",
       "\n"
      ],
      "text/plain": [
       "    age sex cp trestbps chol thalach oldpeak num\n",
       "1   40  1   2  140      289  172     0       0  \n",
       "2   37  1   2  130      283   98     0       0  \n",
       "3   54  1   3  150       -9  122     0       0  \n",
       "4   39  1   3  120      339  170     0       0  \n",
       "5   45  0   2  130      237  170     0       0  \n",
       "⋮   ⋮   ⋮   ⋮  ⋮        ⋮    ⋮       ⋮       ⋮  \n",
       "164 50  1   4  145      264  150     0.0     1  \n",
       "165 38  1   4   92      117  134     2.5     1  \n",
       "166 48  1   4  160      268  103     1.0     1  \n",
       "167 47  1   3  140      193  145     1.0     1  \n",
       "168 55  1   4  140      201  130     3.0     1  "
      ]
     },
     "metadata": {},
     "output_type": "display_data"
    }
   ],
   "source": [
    "set.seed(18)\n",
    "heart_hungarian <- read_delim(\"https://archive.ics.uci.edu/ml/machine-learning-databases/heart-disease/reprocessed.hungarian.data\",delim=\" \", \n",
    "                              col_names = con_names1)\n",
    "hungarian_mutate <- heart_hungarian|>\n",
    "filter(num==0|num==1)|>\n",
    "select(age,sex,cp,trestbps,chol,thalach,oldpeak,num)|>\n",
    "mutate(age=as.integer(age))|>\n",
    "mutate(num=as.factor(num))|>\n",
    "mutate(cp=as.factor(cp))|>\n",
    "mutate(sex=as.factor(sex))|>\n",
    "mutate(trestbps=as.double(trestbps))|>\n",
    "mutate(thalach=as.double(thalach))|>\n",
    "mutate(oldpeak=as.double(oldpeak))\n",
    "\n",
    "\n",
    "\n",
    "hungarian_split <- initial_split(hungarian_mutate, prop = 0.75, strata = num)\n",
    "hungarian_training <- training(hungarian_split)\n",
    "hungarian_testing <- testing(hungarian_split)\n",
    "\n",
    "hungarian_training #print training data\n"
   ]
  },
  {
   "cell_type": "code",
   "execution_count": null,
   "id": "5c6a7b50-be70-45f9-aa71-35df8bfc91db",
   "metadata": {},
   "outputs": [],
   "source": []
  },
  {
   "cell_type": "markdown",
   "id": "8a4551bd-928a-4598-89e2-1a80a8616280",
   "metadata": {},
   "source": [
    "-------------------------------------------------------------------------------------------------------------------------------"
   ]
  },
  {
   "cell_type": "markdown",
   "id": "5f5ab66b-7457-4767-88ca-56eef3cb8202",
   "metadata": {},
   "source": [
    "### Summary of the five potential numerical variables for the two heart disease training datasets from Cleveland and Hungarian.\n",
    "\n",
    "We summarized the five potential numerical predictors(age, trestbps, chol, thalach, & oldpeak). We obtained the means, maximums, and minimums formatted via tables. Each training dataset has two tables: one is summarized based on the whole dataset, and another one is summarized based on only individuals with heart disease, where num=1."
   ]
  },
  {
   "cell_type": "code",
   "execution_count": 6,
   "id": "1c1de670-f01e-4388-b5bb-79cd38ae7cd1",
   "metadata": {},
   "outputs": [],
   "source": [
    "#Cleveland Summary for all individuals (max, min, mean)\n",
    "cleveland_5predictors_all_summary<-summarize(cleveland_training,\n",
    "                                        age_max=max(age,na.rm=TRUE),\n",
    "                                        age_min=min(age,na.rm=TRUE),\n",
    "                                        age_mean=mean(age,na.rm=TRUE),\n",
    "                                        trestbps_max=max(trestbps,na.rm=TRUE),\n",
    "                                        trestbps_min=min(trestbps,na.rm=TRUE),\n",
    "                                        trestbps_mean=mean(trestbps,na.rm=TRUE),\n",
    "                                        chol_max=max(chol,na.rm=TRUE),\n",
    "                                        chol_min=min(chol,na.rm=TRUE),\n",
    "                                        chol_mean=mean(chol,na.rm=TRUE),\n",
    "                                        thalach_max=max(thalach,na.rm=TRUE),\n",
    "                                        thalach_min=min(thalach,na.rm=TRUE),\n",
    "                                        thalach_mean=mean(thalach,na.rm=TRUE),\n",
    "                                        oldpeak_max=max(oldpeak,na.rm=TRUE),\n",
    "                                        oldpeak_min=min(oldpeak,na.rm=TRUE),\n",
    "                                        oldpeak_mean=mean(oldpeak,na.rm=TRUE))\n",
    "#Cleveland Summary for diagnosed individuals (max, min, mean)\n",
    "cleveland_5predictors_diagnosed_summary<-summarize(cleveland_training|>filter(num==1),\n",
    "                                        age_max=max(age,na.rm=TRUE),\n",
    "                                        age_min=min(age,na.rm=TRUE),\n",
    "                                        age_mean=mean(age,na.rm=TRUE),\n",
    "                                        trestbps_max=max(trestbps,na.rm=TRUE),\n",
    "                                        trestbps_min=min(trestbps,na.rm=TRUE),\n",
    "                                        trestbps_mean=mean(trestbps,na.rm=TRUE),\n",
    "                                        chol_max=max(chol,na.rm=TRUE),\n",
    "                                        chol_min=min(chol,na.rm=TRUE),\n",
    "                                        chol_mean=mean(chol,na.rm=TRUE),\n",
    "                                        thalach_max=max(thalach,na.rm=TRUE),\n",
    "                                        thalach_min=min(thalach,na.rm=TRUE),\n",
    "                                        thalach_mean=mean(thalach,na.rm=TRUE),\n",
    "                                        oldpeak_max=max(oldpeak,na.rm=TRUE),\n",
    "                                        oldpeak_min=min(oldpeak,na.rm=TRUE),\n",
    "                                        oldpeak_mean=mean(oldpeak,na.rm=TRUE))"
   ]
  },
  {
   "cell_type": "code",
   "execution_count": 7,
   "id": "9619d593-2b92-479f-8c53-10e331e8f0f0",
   "metadata": {},
   "outputs": [],
   "source": [
    "#Hungary Summary for all individuals (max, min, mean)\n",
    "hungarian_5predictors_all_summary<-summarize(hungarian_training,\n",
    "                                       age_max=max(age,na.rm=TRUE),\n",
    "                                        age_min=min(age,na.rm=TRUE),\n",
    "                                        age_mean=mean(age,na.rm=TRUE),\n",
    "                                        trestbps_max=max(trestbps,na.rm=TRUE),\n",
    "                                        trestbps_min=min(trestbps,na.rm=TRUE),\n",
    "                                        trestbps_mean=mean(trestbps,na.rm=TRUE),\n",
    "                                        chol_max=max(chol,na.rm=TRUE),\n",
    "                                        chol_min=min(chol,na.rm=TRUE),\n",
    "                                        chol_mean=mean(chol,na.rm=TRUE),\n",
    "                                        thalach_max=max(thalach,na.rm=TRUE),\n",
    "                                        thalach_min=min(thalach,na.rm=TRUE),\n",
    "                                        thalach_mean=mean(thalach,na.rm=TRUE),\n",
    "                                        oldpeak_max=max(oldpeak,na.rm=TRUE),\n",
    "                                        oldpeak_min=min(oldpeak,na.rm=TRUE),\n",
    "                                        oldpeak_mean=mean(oldpeak,na.rm=TRUE))\n",
    "\n",
    "#Hungary Summary for diagnosed individuals (max, min, mean)\n",
    "hungarian_5predictors_diagnosed_summary<-summarize(hungarian_training|>filter(num==1),\n",
    "                                      age_max=max(age,na.rm=TRUE),\n",
    "                                        age_min=min(age,na.rm=TRUE),\n",
    "                                        age_mean=mean(age,na.rm=TRUE),\n",
    "                                        trestbps_max=max(trestbps,na.rm=TRUE),\n",
    "                                        trestbps_min=min(trestbps,na.rm=TRUE),\n",
    "                                        trestbps_mean=mean(trestbps,na.rm=TRUE),\n",
    "                                        chol_max=max(chol,na.rm=TRUE),\n",
    "                                        chol_min=min(chol,na.rm=TRUE),\n",
    "                                        chol_mean=mean(chol,na.rm=TRUE),\n",
    "                                        thalach_max=max(thalach,na.rm=TRUE),\n",
    "                                        thalach_min=min(thalach,na.rm=TRUE),\n",
    "                                        thalach_mean=mean(thalach,na.rm=TRUE),\n",
    "                                        oldpeak_max=max(oldpeak,na.rm=TRUE),\n",
    "                                        oldpeak_min=min(oldpeak,na.rm=TRUE),\n",
    "                                        oldpeak_mean=mean(oldpeak,na.rm=TRUE))"
   ]
  },
  {
   "cell_type": "markdown",
   "id": "e40c7adb-ffc4-4260-93e5-51b4a22830be",
   "metadata": {},
   "source": [
    "## Methods\n",
    " \n",
    "(.......Building on the methodology touched upon in the introduction and visualization, and we will do these in the following steps:\n",
    "\n",
    "1. Building classifiers with optimal accuracy using v=5 cross-validation.\n",
    "a. Per city ( Budapest (in Hungary), Cleveland, might add more cities to solidify conclusion) \n",
    "b. The large classifier with Budapest (in Hungary) and Cleveland with all predictors, and 1 for each predictor.\n",
    "\n",
    "2. Compare the v=5 cross-folded accuracy of the different classifiers. Assess if changes hindered or benefited the classifier. \n",
    "3. Look at how predictors have changed across regions and assess if a region-specific classifier or a cumulative training set classifier is more accurate.\n",
    ")\n"
   ]
  },
  {
   "cell_type": "code",
   "execution_count": 8,
   "id": "0d22c66e-59bc-442e-9e1f-75525adcbee2",
   "metadata": {},
   "outputs": [
    {
     "data": {
      "text/html": [
       "<table class=\"dataframe\">\n",
       "<caption>A tibble: 164 × 8</caption>\n",
       "<thead>\n",
       "\t<tr><th scope=col>age</th><th scope=col>sex</th><th scope=col>cp</th><th scope=col>trestbps</th><th scope=col>chol</th><th scope=col>thalach</th><th scope=col>oldpeak</th><th scope=col>num</th></tr>\n",
       "\t<tr><th scope=col>&lt;int&gt;</th><th scope=col>&lt;fct&gt;</th><th scope=col>&lt;fct&gt;</th><th scope=col>&lt;dbl&gt;</th><th scope=col>&lt;dbl&gt;</th><th scope=col>&lt;dbl&gt;</th><th scope=col>&lt;dbl&gt;</th><th scope=col>&lt;fct&gt;</th></tr>\n",
       "</thead>\n",
       "<tbody>\n",
       "\t<tr><td>63</td><td>1</td><td>1</td><td>145</td><td>233</td><td>150</td><td>2.3</td><td>0</td></tr>\n",
       "\t<tr><td>37</td><td>1</td><td>3</td><td>130</td><td>250</td><td>187</td><td>3.5</td><td>0</td></tr>\n",
       "\t<tr><td>41</td><td>0</td><td>2</td><td>130</td><td>204</td><td>172</td><td>1.4</td><td>0</td></tr>\n",
       "\t<tr><td>56</td><td>1</td><td>2</td><td>120</td><td>236</td><td>178</td><td>0.8</td><td>0</td></tr>\n",
       "\t<tr><td>57</td><td>0</td><td>4</td><td>120</td><td>354</td><td>163</td><td>0.6</td><td>0</td></tr>\n",
       "\t<tr><td>⋮</td><td>⋮</td><td>⋮</td><td>⋮</td><td>⋮</td><td>⋮</td><td>⋮</td><td>⋮</td></tr>\n",
       "\t<tr><td>67</td><td>1</td><td>3</td><td>152</td><td>212</td><td>150</td><td>0.8</td><td>1</td></tr>\n",
       "\t<tr><td>63</td><td>0</td><td>4</td><td>124</td><td>197</td><td>136</td><td>0.0</td><td>1</td></tr>\n",
       "\t<tr><td>57</td><td>0</td><td>4</td><td>140</td><td>241</td><td>123</td><td>0.2</td><td>1</td></tr>\n",
       "\t<tr><td>45</td><td>1</td><td>1</td><td>110</td><td>264</td><td>132</td><td>1.2</td><td>1</td></tr>\n",
       "\t<tr><td>57</td><td>0</td><td>2</td><td>130</td><td>236</td><td>174</td><td>0.0</td><td>1</td></tr>\n",
       "</tbody>\n",
       "</table>\n"
      ],
      "text/latex": [
       "A tibble: 164 × 8\n",
       "\\begin{tabular}{llllllll}\n",
       " age & sex & cp & trestbps & chol & thalach & oldpeak & num\\\\\n",
       " <int> & <fct> & <fct> & <dbl> & <dbl> & <dbl> & <dbl> & <fct>\\\\\n",
       "\\hline\n",
       "\t 63 & 1 & 1 & 145 & 233 & 150 & 2.3 & 0\\\\\n",
       "\t 37 & 1 & 3 & 130 & 250 & 187 & 3.5 & 0\\\\\n",
       "\t 41 & 0 & 2 & 130 & 204 & 172 & 1.4 & 0\\\\\n",
       "\t 56 & 1 & 2 & 120 & 236 & 178 & 0.8 & 0\\\\\n",
       "\t 57 & 0 & 4 & 120 & 354 & 163 & 0.6 & 0\\\\\n",
       "\t ⋮ & ⋮ & ⋮ & ⋮ & ⋮ & ⋮ & ⋮ & ⋮\\\\\n",
       "\t 67 & 1 & 3 & 152 & 212 & 150 & 0.8 & 1\\\\\n",
       "\t 63 & 0 & 4 & 124 & 197 & 136 & 0.0 & 1\\\\\n",
       "\t 57 & 0 & 4 & 140 & 241 & 123 & 0.2 & 1\\\\\n",
       "\t 45 & 1 & 1 & 110 & 264 & 132 & 1.2 & 1\\\\\n",
       "\t 57 & 0 & 2 & 130 & 236 & 174 & 0.0 & 1\\\\\n",
       "\\end{tabular}\n"
      ],
      "text/markdown": [
       "\n",
       "A tibble: 164 × 8\n",
       "\n",
       "| age &lt;int&gt; | sex &lt;fct&gt; | cp &lt;fct&gt; | trestbps &lt;dbl&gt; | chol &lt;dbl&gt; | thalach &lt;dbl&gt; | oldpeak &lt;dbl&gt; | num &lt;fct&gt; |\n",
       "|---|---|---|---|---|---|---|---|\n",
       "| 63 | 1 | 1 | 145 | 233 | 150 | 2.3 | 0 |\n",
       "| 37 | 1 | 3 | 130 | 250 | 187 | 3.5 | 0 |\n",
       "| 41 | 0 | 2 | 130 | 204 | 172 | 1.4 | 0 |\n",
       "| 56 | 1 | 2 | 120 | 236 | 178 | 0.8 | 0 |\n",
       "| 57 | 0 | 4 | 120 | 354 | 163 | 0.6 | 0 |\n",
       "| ⋮ | ⋮ | ⋮ | ⋮ | ⋮ | ⋮ | ⋮ | ⋮ |\n",
       "| 67 | 1 | 3 | 152 | 212 | 150 | 0.8 | 1 |\n",
       "| 63 | 0 | 4 | 124 | 197 | 136 | 0.0 | 1 |\n",
       "| 57 | 0 | 4 | 140 | 241 | 123 | 0.2 | 1 |\n",
       "| 45 | 1 | 1 | 110 | 264 | 132 | 1.2 | 1 |\n",
       "| 57 | 0 | 2 | 130 | 236 | 174 | 0.0 | 1 |\n",
       "\n"
      ],
      "text/plain": [
       "    age sex cp trestbps chol thalach oldpeak num\n",
       "1   63  1   1  145      233  150     2.3     0  \n",
       "2   37  1   3  130      250  187     3.5     0  \n",
       "3   41  0   2  130      204  172     1.4     0  \n",
       "4   56  1   2  120      236  178     0.8     0  \n",
       "5   57  0   4  120      354  163     0.6     0  \n",
       "⋮   ⋮   ⋮   ⋮  ⋮        ⋮    ⋮       ⋮       ⋮  \n",
       "160 67  1   3  152      212  150     0.8     1  \n",
       "161 63  0   4  124      197  136     0.0     1  \n",
       "162 57  0   4  140      241  123     0.2     1  \n",
       "163 45  1   1  110      264  132     1.2     1  \n",
       "164 57  0   2  130      236  174     0.0     1  "
      ]
     },
     "metadata": {},
     "output_type": "display_data"
    }
   ],
   "source": [
    "cleveland_training"
   ]
  },
  {
   "cell_type": "raw",
   "id": "eb006bea-9554-4fb4-a2fb-faf1574901c8",
   "metadata": {},
   "source": [
    "#(1/2)m(m+1)= 15 Classifers\n",
    "\n",
    "# First 5 classifier, each with 1 numerical predictor\n",
    "recipe_age <- recipe(num ~ age, data = cleveland_training) |>\n",
    "  step_scale(all_predictors()) |>\n",
    "  step_center(all_predictors())\n",
    "\n",
    "recipe_trestbps <- recipe(num ~ trestbps, data = cleveland_training) |>\n",
    "  step_scale(all_predictors()) |>\n",
    "  step_center(all_predictors())\n",
    "\n",
    "recipe_chol <- recipe(num ~ chol, data = cleveland_training) |>\n",
    "  step_scale(all_predictors()) |>\n",
    "  step_center(all_predictors())\n",
    "\n",
    "recipe_thalach <- recipe(num ~ thalach, data = cleveland_training) |>\n",
    "  step_scale(all_predictors()) |>\n",
    "  step_center(all_predictors())\n",
    "\n",
    "recipe_oldpeak <- recipe(num ~ oldpeak, data = cleveland_training) |>\n",
    "  step_scale(all_predictors()) |>\n",
    "  step_center(all_predictors())\n",
    "\n",
    "# Second 4 classifier, each with 2 numerical predictor (the one we chose before and a new one)\n",
    "\n",
    "recipe_trestbps_age <- recipe(num ~ trestbps + age, data = cleveland_training) |>\n",
    "  step_scale(all_predictors()) |>\n",
    "  step_center(all_predictors())\n",
    "\n",
    "recipe_chol_age <- recipe(num ~ chol + age, data = cleveland_training) |>\n",
    "  step_scale(all_predictors()) |>\n",
    "  step_center(all_predictors())\n",
    "\n",
    "recipe_thalach_age <- recipe(num ~ thalach + age, data = cleveland_training) |>\n",
    "  step_scale(all_predictors()) |>\n",
    "  step_center(all_predictors())\n",
    "\n",
    "recipe_oldpeak_age <- recipe(num ~ oldpeak + age, data = cleveland_training) |>\n",
    "  step_scale(all_predictors()) |>\n",
    "  step_center(all_predictors())\n",
    "\n",
    "# Third 3 classifier, each with 3 numerical predictor (the two we chose before and a new one)\n",
    "\n",
    "\n",
    "recipe_chol_age_trestbps <- recipe(num ~ chol + age + trestbps, data = cleveland_training) |>\n",
    "  step_scale(all_predictors()) |>\n",
    "  step_center(all_predictors())\n",
    "\n",
    "recipe_thalach_age_trestbps <- recipe(num ~ thalach + age + trestbps, data = cleveland_training) |>\n",
    "  step_scale(all_predictors()) |>\n",
    "  step_center(all_predictors())\n",
    "\n",
    "recipe_oldpeak_age_trestbps <- recipe(num ~ oldpeak + age + trestbps, data = cleveland_training) |>\n",
    "  step_scale(all_predictors()) |>\n",
    "  step_center(all_predictors())\n",
    "\n",
    "# Fourth 2 classifier, each with 4numerical predictor (the three we chose before and a new one)\n",
    "\n",
    "\n",
    "\n",
    "recipe_thalach_age_trestbps_chol <- recipe(num ~ thalach + age + trestbps + chol, data = cleveland_training) |>\n",
    "  step_scale(all_predictors()) |>\n",
    "  step_center(all_predictors())\n",
    "\n",
    "recipe_oldpeak_age_trestbps_chol <- recipe(num ~ oldpeak + age + trestbps + chol, data = cleveland_training) |>\n",
    "  step_scale(all_predictors()) |>\n",
    "  step_center(all_predictors())\n",
    "\n",
    "# Fifth 1 classifier, each with all 5 numerical predictor\n",
    "\n",
    "recipe_oldpeak_age_trestbps_chol_thalach <- recipe(num ~ oldpeak + age + trestbps + chol + thalach, data = cleveland_training) |>\n",
    "  step_scale(all_predictors()) |>\n",
    "  step_center(all_predictors())\n",
    "\n",
    "heartDisease_vfold <- vfold_cv(cleveland_training, v = 10, strata = num)\n",
    "\n",
    "knn_spec <- nearest_neighbor(weight_func = \"rectangular\", neighbors = tune()) |>\n",
    "  set_engine(\"kknn\") |>\n",
    "  set_mode(\"classification\")\n",
    "\n",
    "knn_results <- workflow() |>\n",
    "  add_recipe(heartdisease_recipe) |>\n",
    "  add_model(knn_spec) |>\n",
    "  tune_grid(resamples = heartdisease_vfold, grid = 10) |>\n",
    "  collect_metrics()\n",
    "knn_results\n"
   ]
  },
  {
   "cell_type": "code",
   "execution_count": 9,
   "id": "f2474fe8-9432-464b-aaea-7e5b39ebb46d",
   "metadata": {},
   "outputs": [
    {
     "data": {
      "text/html": [
       "<style>\n",
       ".list-inline {list-style: none; margin:0; padding: 0}\n",
       ".list-inline>li {display: inline-block}\n",
       ".list-inline>li:not(:last-child)::after {content: \"\\00b7\"; padding: 0 .5ex}\n",
       "</style>\n",
       "<ol class=list-inline><li>'age'</li><li>'trestbps'</li><li>'chol'</li><li>'thalach'</li><li>'oldpeak'</li></ol>\n"
      ],
      "text/latex": [
       "\\begin{enumerate*}\n",
       "\\item 'age'\n",
       "\\item 'trestbps'\n",
       "\\item 'chol'\n",
       "\\item 'thalach'\n",
       "\\item 'oldpeak'\n",
       "\\end{enumerate*}\n"
      ],
      "text/markdown": [
       "1. 'age'\n",
       "2. 'trestbps'\n",
       "3. 'chol'\n",
       "4. 'thalach'\n",
       "5. 'oldpeak'\n",
       "\n",
       "\n"
      ],
      "text/plain": [
       "[1] \"age\"      \"trestbps\" \"chol\"     \"thalach\"  \"oldpeak\" "
      ]
     },
     "metadata": {},
     "output_type": "display_data"
    },
    {
     "data": {
      "text/html": [
       "<table class=\"dataframe\">\n",
       "<caption>A tibble: 164 × 6</caption>\n",
       "<thead>\n",
       "\t<tr><th scope=col>age</th><th scope=col>trestbps</th><th scope=col>chol</th><th scope=col>thalach</th><th scope=col>oldpeak</th><th scope=col>num</th></tr>\n",
       "\t<tr><th scope=col>&lt;int&gt;</th><th scope=col>&lt;dbl&gt;</th><th scope=col>&lt;dbl&gt;</th><th scope=col>&lt;dbl&gt;</th><th scope=col>&lt;dbl&gt;</th><th scope=col>&lt;fct&gt;</th></tr>\n",
       "</thead>\n",
       "<tbody>\n",
       "\t<tr><td>63</td><td>145</td><td>233</td><td>150</td><td>2.3</td><td>0</td></tr>\n",
       "\t<tr><td>37</td><td>130</td><td>250</td><td>187</td><td>3.5</td><td>0</td></tr>\n",
       "\t<tr><td>41</td><td>130</td><td>204</td><td>172</td><td>1.4</td><td>0</td></tr>\n",
       "\t<tr><td>56</td><td>120</td><td>236</td><td>178</td><td>0.8</td><td>0</td></tr>\n",
       "\t<tr><td>57</td><td>120</td><td>354</td><td>163</td><td>0.6</td><td>0</td></tr>\n",
       "\t<tr><td>⋮</td><td>⋮</td><td>⋮</td><td>⋮</td><td>⋮</td><td>⋮</td></tr>\n",
       "\t<tr><td>67</td><td>152</td><td>212</td><td>150</td><td>0.8</td><td>1</td></tr>\n",
       "\t<tr><td>63</td><td>124</td><td>197</td><td>136</td><td>0.0</td><td>1</td></tr>\n",
       "\t<tr><td>57</td><td>140</td><td>241</td><td>123</td><td>0.2</td><td>1</td></tr>\n",
       "\t<tr><td>45</td><td>110</td><td>264</td><td>132</td><td>1.2</td><td>1</td></tr>\n",
       "\t<tr><td>57</td><td>130</td><td>236</td><td>174</td><td>0.0</td><td>1</td></tr>\n",
       "</tbody>\n",
       "</table>\n"
      ],
      "text/latex": [
       "A tibble: 164 × 6\n",
       "\\begin{tabular}{llllll}\n",
       " age & trestbps & chol & thalach & oldpeak & num\\\\\n",
       " <int> & <dbl> & <dbl> & <dbl> & <dbl> & <fct>\\\\\n",
       "\\hline\n",
       "\t 63 & 145 & 233 & 150 & 2.3 & 0\\\\\n",
       "\t 37 & 130 & 250 & 187 & 3.5 & 0\\\\\n",
       "\t 41 & 130 & 204 & 172 & 1.4 & 0\\\\\n",
       "\t 56 & 120 & 236 & 178 & 0.8 & 0\\\\\n",
       "\t 57 & 120 & 354 & 163 & 0.6 & 0\\\\\n",
       "\t ⋮ & ⋮ & ⋮ & ⋮ & ⋮ & ⋮\\\\\n",
       "\t 67 & 152 & 212 & 150 & 0.8 & 1\\\\\n",
       "\t 63 & 124 & 197 & 136 & 0.0 & 1\\\\\n",
       "\t 57 & 140 & 241 & 123 & 0.2 & 1\\\\\n",
       "\t 45 & 110 & 264 & 132 & 1.2 & 1\\\\\n",
       "\t 57 & 130 & 236 & 174 & 0.0 & 1\\\\\n",
       "\\end{tabular}\n"
      ],
      "text/markdown": [
       "\n",
       "A tibble: 164 × 6\n",
       "\n",
       "| age &lt;int&gt; | trestbps &lt;dbl&gt; | chol &lt;dbl&gt; | thalach &lt;dbl&gt; | oldpeak &lt;dbl&gt; | num &lt;fct&gt; |\n",
       "|---|---|---|---|---|---|\n",
       "| 63 | 145 | 233 | 150 | 2.3 | 0 |\n",
       "| 37 | 130 | 250 | 187 | 3.5 | 0 |\n",
       "| 41 | 130 | 204 | 172 | 1.4 | 0 |\n",
       "| 56 | 120 | 236 | 178 | 0.8 | 0 |\n",
       "| 57 | 120 | 354 | 163 | 0.6 | 0 |\n",
       "| ⋮ | ⋮ | ⋮ | ⋮ | ⋮ | ⋮ |\n",
       "| 67 | 152 | 212 | 150 | 0.8 | 1 |\n",
       "| 63 | 124 | 197 | 136 | 0.0 | 1 |\n",
       "| 57 | 140 | 241 | 123 | 0.2 | 1 |\n",
       "| 45 | 110 | 264 | 132 | 1.2 | 1 |\n",
       "| 57 | 130 | 236 | 174 | 0.0 | 1 |\n",
       "\n"
      ],
      "text/plain": [
       "    age trestbps chol thalach oldpeak num\n",
       "1   63  145      233  150     2.3     0  \n",
       "2   37  130      250  187     3.5     0  \n",
       "3   41  130      204  172     1.4     0  \n",
       "4   56  120      236  178     0.8     0  \n",
       "5   57  120      354  163     0.6     0  \n",
       "⋮   ⋮   ⋮        ⋮    ⋮       ⋮       ⋮  \n",
       "160 67  152      212  150     0.8     1  \n",
       "161 63  124      197  136     0.0     1  \n",
       "162 57  140      241  123     0.2     1  \n",
       "163 45  110      264  132     1.2     1  \n",
       "164 57  130      236  174     0.0     1  "
      ]
     },
     "metadata": {},
     "output_type": "display_data"
    },
    {
     "data": {
      "text/html": [
       "<table class=\"dataframe\">\n",
       "<caption>A tibble: 55 × 6</caption>\n",
       "<thead>\n",
       "\t<tr><th scope=col>age</th><th scope=col>trestbps</th><th scope=col>chol</th><th scope=col>thalach</th><th scope=col>oldpeak</th><th scope=col>num</th></tr>\n",
       "\t<tr><th scope=col>&lt;int&gt;</th><th scope=col>&lt;dbl&gt;</th><th scope=col>&lt;dbl&gt;</th><th scope=col>&lt;dbl&gt;</th><th scope=col>&lt;dbl&gt;</th><th scope=col>&lt;fct&gt;</th></tr>\n",
       "</thead>\n",
       "<tbody>\n",
       "\t<tr><td>53</td><td>140</td><td>203</td><td>155</td><td>3.1</td><td>1</td></tr>\n",
       "\t<tr><td>57</td><td>140</td><td>192</td><td>148</td><td>0.4</td><td>0</td></tr>\n",
       "\t<tr><td>56</td><td>140</td><td>294</td><td>153</td><td>1.3</td><td>0</td></tr>\n",
       "\t<tr><td>64</td><td>110</td><td>211</td><td>144</td><td>1.8</td><td>0</td></tr>\n",
       "\t<tr><td>58</td><td>120</td><td>340</td><td>172</td><td>0.0</td><td>0</td></tr>\n",
       "\t<tr><td>⋮</td><td>⋮</td><td>⋮</td><td>⋮</td><td>⋮</td><td>⋮</td></tr>\n",
       "\t<tr><td>66</td><td>160</td><td>228</td><td>138</td><td>2.3</td><td>0</td></tr>\n",
       "\t<tr><td>71</td><td>112</td><td>149</td><td>125</td><td>1.6</td><td>0</td></tr>\n",
       "\t<tr><td>66</td><td>146</td><td>278</td><td>152</td><td>0.0</td><td>0</td></tr>\n",
       "\t<tr><td>58</td><td>125</td><td>220</td><td>144</td><td>0.4</td><td>0</td></tr>\n",
       "\t<tr><td>56</td><td>130</td><td>221</td><td>163</td><td>0.0</td><td>0</td></tr>\n",
       "</tbody>\n",
       "</table>\n"
      ],
      "text/latex": [
       "A tibble: 55 × 6\n",
       "\\begin{tabular}{llllll}\n",
       " age & trestbps & chol & thalach & oldpeak & num\\\\\n",
       " <int> & <dbl> & <dbl> & <dbl> & <dbl> & <fct>\\\\\n",
       "\\hline\n",
       "\t 53 & 140 & 203 & 155 & 3.1 & 1\\\\\n",
       "\t 57 & 140 & 192 & 148 & 0.4 & 0\\\\\n",
       "\t 56 & 140 & 294 & 153 & 1.3 & 0\\\\\n",
       "\t 64 & 110 & 211 & 144 & 1.8 & 0\\\\\n",
       "\t 58 & 120 & 340 & 172 & 0.0 & 0\\\\\n",
       "\t ⋮ & ⋮ & ⋮ & ⋮ & ⋮ & ⋮\\\\\n",
       "\t 66 & 160 & 228 & 138 & 2.3 & 0\\\\\n",
       "\t 71 & 112 & 149 & 125 & 1.6 & 0\\\\\n",
       "\t 66 & 146 & 278 & 152 & 0.0 & 0\\\\\n",
       "\t 58 & 125 & 220 & 144 & 0.4 & 0\\\\\n",
       "\t 56 & 130 & 221 & 163 & 0.0 & 0\\\\\n",
       "\\end{tabular}\n"
      ],
      "text/markdown": [
       "\n",
       "A tibble: 55 × 6\n",
       "\n",
       "| age &lt;int&gt; | trestbps &lt;dbl&gt; | chol &lt;dbl&gt; | thalach &lt;dbl&gt; | oldpeak &lt;dbl&gt; | num &lt;fct&gt; |\n",
       "|---|---|---|---|---|---|\n",
       "| 53 | 140 | 203 | 155 | 3.1 | 1 |\n",
       "| 57 | 140 | 192 | 148 | 0.4 | 0 |\n",
       "| 56 | 140 | 294 | 153 | 1.3 | 0 |\n",
       "| 64 | 110 | 211 | 144 | 1.8 | 0 |\n",
       "| 58 | 120 | 340 | 172 | 0.0 | 0 |\n",
       "| ⋮ | ⋮ | ⋮ | ⋮ | ⋮ | ⋮ |\n",
       "| 66 | 160 | 228 | 138 | 2.3 | 0 |\n",
       "| 71 | 112 | 149 | 125 | 1.6 | 0 |\n",
       "| 66 | 146 | 278 | 152 | 0.0 | 0 |\n",
       "| 58 | 125 | 220 | 144 | 0.4 | 0 |\n",
       "| 56 | 130 | 221 | 163 | 0.0 | 0 |\n",
       "\n"
      ],
      "text/plain": [
       "   age trestbps chol thalach oldpeak num\n",
       "1  53  140      203  155     3.1     1  \n",
       "2  57  140      192  148     0.4     0  \n",
       "3  56  140      294  153     1.3     0  \n",
       "4  64  110      211  144     1.8     0  \n",
       "5  58  120      340  172     0.0     0  \n",
       "⋮  ⋮   ⋮        ⋮    ⋮       ⋮       ⋮  \n",
       "51 66  160      228  138     2.3     0  \n",
       "52 71  112      149  125     1.6     0  \n",
       "53 66  146      278  152     0.0     0  \n",
       "54 58  125      220  144     0.4     0  \n",
       "55 56  130      221  163     0.0     0  "
      ]
     },
     "metadata": {},
     "output_type": "display_data"
    }
   ],
   "source": [
    "#Code Source: ...\n",
    "\n",
    "set.seed(18)\n",
    "#select 5 numerical variables from the cleveland training dataset\n",
    "cleveland_training_subset <- cleveland_training |> \n",
    "  select(age, \n",
    "         trestbps, \n",
    "         chol, \n",
    "         thalach, \n",
    "         oldpeak, \n",
    "         num)\n",
    "\n",
    "cleveland_testing_subset <- cleveland_testing |> \n",
    "  select(age, \n",
    "         trestbps, \n",
    "         chol, \n",
    "         thalach, \n",
    "         oldpeak, \n",
    "         num)\n",
    "#extract variable names from the cleveland training sub dataset\n",
    "names <- colnames(cleveland_training_subset |> select(-num))\n",
    "\n",
    "names\n",
    "\n",
    "cleveland_training_subset\n",
    "cleveland_testing_subset"
   ]
  },
  {
   "cell_type": "markdown",
   "id": "dd693c2c-a4a0-4473-acb9-2dd8155ce143",
   "metadata": {},
   "source": []
  },
  {
   "cell_type": "code",
   "execution_count": 10,
   "id": "4ab764c0-c3b5-43d1-a32a-2efc14bb9f98",
   "metadata": {},
   "outputs": [
    {
     "data": {
      "text/html": [
       "<table class=\"dataframe\">\n",
       "<caption>A tibble: 2 × 2</caption>\n",
       "<thead>\n",
       "\t<tr><th scope=col>num</th><th scope=col>n</th></tr>\n",
       "\t<tr><th scope=col>&lt;fct&gt;</th><th scope=col>&lt;int&gt;</th></tr>\n",
       "</thead>\n",
       "<tbody>\n",
       "\t<tr><td>0</td><td>123</td></tr>\n",
       "\t<tr><td>1</td><td> 41</td></tr>\n",
       "</tbody>\n",
       "</table>\n"
      ],
      "text/latex": [
       "A tibble: 2 × 2\n",
       "\\begin{tabular}{ll}\n",
       " num & n\\\\\n",
       " <fct> & <int>\\\\\n",
       "\\hline\n",
       "\t 0 & 123\\\\\n",
       "\t 1 &  41\\\\\n",
       "\\end{tabular}\n"
      ],
      "text/markdown": [
       "\n",
       "A tibble: 2 × 2\n",
       "\n",
       "| num &lt;fct&gt; | n &lt;int&gt; |\n",
       "|---|---|\n",
       "| 0 | 123 |\n",
       "| 1 |  41 |\n",
       "\n"
      ],
      "text/plain": [
       "  num n  \n",
       "1 0   123\n",
       "2 1    41"
      ]
     },
     "metadata": {},
     "output_type": "display_data"
    }
   ],
   "source": [
    "heaartdisease<-cleveland_training_subset|>\n",
    "group_by(num)|>\n",
    "summarize(n=n())\n",
    "\n",
    "heaartdisease"
   ]
  },
  {
   "cell_type": "markdown",
   "id": "0804a318-9fde-40df-810b-8fd20275a047",
   "metadata": {},
   "source": [
    "Data here is un..."
   ]
  },
  {
   "cell_type": "code",
   "execution_count": 11,
   "id": "dd0e5869-81d3-4ec9-af57-8f3720ddcc9c",
   "metadata": {},
   "outputs": [
    {
     "data": {
      "text/html": [
       "<table class=\"dataframe\">\n",
       "<caption>A tibble: 246 × 6</caption>\n",
       "<thead>\n",
       "\t<tr><th scope=col>age</th><th scope=col>trestbps</th><th scope=col>chol</th><th scope=col>thalach</th><th scope=col>oldpeak</th><th scope=col>num</th></tr>\n",
       "\t<tr><th scope=col>&lt;int&gt;</th><th scope=col>&lt;dbl&gt;</th><th scope=col>&lt;dbl&gt;</th><th scope=col>&lt;dbl&gt;</th><th scope=col>&lt;dbl&gt;</th><th scope=col>&lt;fct&gt;</th></tr>\n",
       "</thead>\n",
       "<tbody>\n",
       "\t<tr><td>63</td><td>145</td><td>233</td><td>150</td><td>2.3</td><td>0</td></tr>\n",
       "\t<tr><td>37</td><td>130</td><td>250</td><td>187</td><td>3.5</td><td>0</td></tr>\n",
       "\t<tr><td>41</td><td>130</td><td>204</td><td>172</td><td>1.4</td><td>0</td></tr>\n",
       "\t<tr><td>56</td><td>120</td><td>236</td><td>178</td><td>0.8</td><td>0</td></tr>\n",
       "\t<tr><td>57</td><td>120</td><td>354</td><td>163</td><td>0.6</td><td>0</td></tr>\n",
       "\t<tr><td>⋮</td><td>⋮</td><td>⋮</td><td>⋮</td><td>⋮</td><td>⋮</td></tr>\n",
       "\t<tr><td>59</td><td>134</td><td>204</td><td>162</td><td>0.8</td><td>1</td></tr>\n",
       "\t<tr><td>44</td><td>110</td><td>197</td><td>177</td><td>0.0</td><td>1</td></tr>\n",
       "\t<tr><td>57</td><td>150</td><td>276</td><td>112</td><td>0.6</td><td>1</td></tr>\n",
       "\t<tr><td>64</td><td>140</td><td>335</td><td>158</td><td>0.0</td><td>1</td></tr>\n",
       "\t<tr><td>60</td><td>130</td><td>253</td><td>144</td><td>1.4</td><td>1</td></tr>\n",
       "</tbody>\n",
       "</table>\n"
      ],
      "text/latex": [
       "A tibble: 246 × 6\n",
       "\\begin{tabular}{llllll}\n",
       " age & trestbps & chol & thalach & oldpeak & num\\\\\n",
       " <int> & <dbl> & <dbl> & <dbl> & <dbl> & <fct>\\\\\n",
       "\\hline\n",
       "\t 63 & 145 & 233 & 150 & 2.3 & 0\\\\\n",
       "\t 37 & 130 & 250 & 187 & 3.5 & 0\\\\\n",
       "\t 41 & 130 & 204 & 172 & 1.4 & 0\\\\\n",
       "\t 56 & 120 & 236 & 178 & 0.8 & 0\\\\\n",
       "\t 57 & 120 & 354 & 163 & 0.6 & 0\\\\\n",
       "\t ⋮ & ⋮ & ⋮ & ⋮ & ⋮ & ⋮\\\\\n",
       "\t 59 & 134 & 204 & 162 & 0.8 & 1\\\\\n",
       "\t 44 & 110 & 197 & 177 & 0.0 & 1\\\\\n",
       "\t 57 & 150 & 276 & 112 & 0.6 & 1\\\\\n",
       "\t 64 & 140 & 335 & 158 & 0.0 & 1\\\\\n",
       "\t 60 & 130 & 253 & 144 & 1.4 & 1\\\\\n",
       "\\end{tabular}\n"
      ],
      "text/markdown": [
       "\n",
       "A tibble: 246 × 6\n",
       "\n",
       "| age &lt;int&gt; | trestbps &lt;dbl&gt; | chol &lt;dbl&gt; | thalach &lt;dbl&gt; | oldpeak &lt;dbl&gt; | num &lt;fct&gt; |\n",
       "|---|---|---|---|---|---|\n",
       "| 63 | 145 | 233 | 150 | 2.3 | 0 |\n",
       "| 37 | 130 | 250 | 187 | 3.5 | 0 |\n",
       "| 41 | 130 | 204 | 172 | 1.4 | 0 |\n",
       "| 56 | 120 | 236 | 178 | 0.8 | 0 |\n",
       "| 57 | 120 | 354 | 163 | 0.6 | 0 |\n",
       "| ⋮ | ⋮ | ⋮ | ⋮ | ⋮ | ⋮ |\n",
       "| 59 | 134 | 204 | 162 | 0.8 | 1 |\n",
       "| 44 | 110 | 197 | 177 | 0.0 | 1 |\n",
       "| 57 | 150 | 276 | 112 | 0.6 | 1 |\n",
       "| 64 | 140 | 335 | 158 | 0.0 | 1 |\n",
       "| 60 | 130 | 253 | 144 | 1.4 | 1 |\n",
       "\n"
      ],
      "text/plain": [
       "    age trestbps chol thalach oldpeak num\n",
       "1   63  145      233  150     2.3     0  \n",
       "2   37  130      250  187     3.5     0  \n",
       "3   41  130      204  172     1.4     0  \n",
       "4   56  120      236  178     0.8     0  \n",
       "5   57  120      354  163     0.6     0  \n",
       "⋮   ⋮   ⋮        ⋮    ⋮       ⋮       ⋮  \n",
       "242 59  134      204  162     0.8     1  \n",
       "243 44  110      197  177     0.0     1  \n",
       "244 57  150      276  112     0.6     1  \n",
       "245 64  140      335  158     0.0     1  \n",
       "246 60  130      253  144     1.4     1  "
      ]
     },
     "metadata": {},
     "output_type": "display_data"
    }
   ],
   "source": [
    "ups_recipe <- recipe(num~., data = cleveland_training_subset)|>\n",
    "step_upsample(num, over_ratio = 1, skip = FALSE)|>\n",
    "prep()\n",
    "\n",
    "upsampled_cleveland_training_subset <- bake(ups_recipe, cleveland_training_subset)\n",
    "\n",
    "unsampled_heaartdisease<-upsampled_cleveland_training_subset|>\n",
    "group_by(num)|>\n",
    "summarize(n=n())\n",
    "\n",
    "\n",
    "upsampled_cleveland_training_subset"
   ]
  },
  {
   "cell_type": "code",
   "execution_count": 12,
   "id": "d7bb7344-dc26-4814-8811-f28bbbe2b13f",
   "metadata": {},
   "outputs": [
    {
     "data": {
      "text/html": [
       "<table class=\"dataframe\">\n",
       "<caption>A tibble: 5 × 3</caption>\n",
       "<thead>\n",
       "\t<tr><th scope=col>size</th><th scope=col>model_string</th><th scope=col>accuracy</th></tr>\n",
       "\t<tr><th scope=col>&lt;int&gt;</th><th scope=col>&lt;chr&gt;</th><th scope=col>&lt;dbl&gt;</th></tr>\n",
       "</thead>\n",
       "<tbody>\n",
       "\t<tr><td>1</td><td>num ~ age                              </td><td>0.7231667</td></tr>\n",
       "\t<tr><td>2</td><td>num ~ age+chol                         </td><td>0.8290000</td></tr>\n",
       "\t<tr><td>3</td><td>num ~ age+chol+oldpeak                 </td><td>0.8375000</td></tr>\n",
       "\t<tr><td>4</td><td>num ~ age+chol+oldpeak+trestbps        </td><td>0.8583333</td></tr>\n",
       "\t<tr><td>5</td><td>num ~ age+chol+oldpeak+trestbps+thalach</td><td>0.8418333</td></tr>\n",
       "</tbody>\n",
       "</table>\n"
      ],
      "text/latex": [
       "A tibble: 5 × 3\n",
       "\\begin{tabular}{lll}\n",
       " size & model\\_string & accuracy\\\\\n",
       " <int> & <chr> & <dbl>\\\\\n",
       "\\hline\n",
       "\t 1 & num \\textasciitilde{} age                               & 0.7231667\\\\\n",
       "\t 2 & num \\textasciitilde{} age+chol                          & 0.8290000\\\\\n",
       "\t 3 & num \\textasciitilde{} age+chol+oldpeak                  & 0.8375000\\\\\n",
       "\t 4 & num \\textasciitilde{} age+chol+oldpeak+trestbps         & 0.8583333\\\\\n",
       "\t 5 & num \\textasciitilde{} age+chol+oldpeak+trestbps+thalach & 0.8418333\\\\\n",
       "\\end{tabular}\n"
      ],
      "text/markdown": [
       "\n",
       "A tibble: 5 × 3\n",
       "\n",
       "| size &lt;int&gt; | model_string &lt;chr&gt; | accuracy &lt;dbl&gt; |\n",
       "|---|---|---|\n",
       "| 1 | num ~ age                               | 0.7231667 |\n",
       "| 2 | num ~ age+chol                          | 0.8290000 |\n",
       "| 3 | num ~ age+chol+oldpeak                  | 0.8375000 |\n",
       "| 4 | num ~ age+chol+oldpeak+trestbps         | 0.8583333 |\n",
       "| 5 | num ~ age+chol+oldpeak+trestbps+thalach | 0.8418333 |\n",
       "\n"
      ],
      "text/plain": [
       "  size model_string                            accuracy \n",
       "1 1    num ~ age                               0.7231667\n",
       "2 2    num ~ age+chol                          0.8290000\n",
       "3 3    num ~ age+chol+oldpeak                  0.8375000\n",
       "4 4    num ~ age+chol+oldpeak+trestbps         0.8583333\n",
       "5 5    num ~ age+chol+oldpeak+trestbps+thalach 0.8418333"
      ]
     },
     "metadata": {},
     "output_type": "display_data"
    }
   ],
   "source": [
    "set.seed(18)\n",
    "# create an empty tibble to store the results\n",
    "accuracies <- tibble(size = integer(), \n",
    "                     model_string = character(), \n",
    "                     accuracy = numeric())\n",
    "\n",
    "# create a model specification\n",
    "knn_spec <- nearest_neighbor(weight_func = \"rectangular\", \n",
    "                             neighbors = tune()) |>\n",
    "     set_engine(\"kknn\") |>\n",
    "     set_mode(\"classification\")\n",
    "\n",
    "# create a 5-fold cross-validation object\n",
    "heartdisease_vfold <- vfold_cv(upsampled_cleveland_training_subset, v = 5, strata = num)\n",
    "\n",
    "# store the total number of predictors\n",
    "n_total <- length(names)\n",
    "\n",
    "# stores selected predictors\n",
    "selected <- c()\n",
    "\n",
    "# for every size from 1 to the total number of predictors\n",
    "for (i in 1:n_total) {\n",
    "    # for every predictor still not added yet\n",
    "    accs <- list()\n",
    "    models <- list()\n",
    "    for (j in 1:length(names)) {\n",
    "        # create a model string for this combination of predictors\n",
    "        preds_new <- c(selected, names[[j]])\n",
    "        model_string <- paste(\"num\", \"~\", paste(preds_new, collapse=\"+\"))\n",
    "\n",
    "        # create a recipe from the model string\n",
    "        hd_recipe <- recipe(as.formula(model_string), \n",
    "                                data = upsampled_cleveland_training_subset) |>\n",
    "                          step_scale(all_predictors()) |>\n",
    "                          step_center(all_predictors())\n",
    "        \n",
    "            # tune the KNN classifier with these predictors, \n",
    "        # and collect the accuracy for the best K\n",
    "        acc <- workflow() |>\n",
    "          add_recipe(hd_recipe) |>\n",
    "          add_model(knn_spec) |>\n",
    "          tune_grid(resamples = heartdisease_vfold, grid = 10) |>\n",
    "          collect_metrics() |>\n",
    "          filter(.metric == \"accuracy\")|>\n",
    "          summarize(mx = max(mean))\n",
    "        acc <- acc$mx |> unlist()\n",
    "\n",
    "\n",
    "        # add this result to the dataframe\n",
    "        accs[[j]] <- acc\n",
    "        models[[j]] <- model_string\n",
    "        \n",
    "    }\n",
    "    jstar <- which.max(unlist(accs))\n",
    "    accuracies <- accuracies |> \n",
    "      add_row(size = i, \n",
    "              model_string = models[[jstar]], \n",
    "              accuracy = accs[[jstar]])\n",
    "    selected <- c(selected, names[[jstar]])\n",
    "    names <- names[-jstar]\n",
    "}\n",
    "accuracies    "
   ]
  },
  {
   "cell_type": "code",
   "execution_count": 13,
   "id": "144ee542-f6b9-4942-9416-5739b0b42772",
   "metadata": {},
   "outputs": [
    {
     "data": {
      "image/png": "[encoded data removed]",
      "text/plain": [
       "plot without title"
      ]
     },
     "metadata": {
      "image/png": {
       "height": 420,
       "width": 1080
      }
     },
     "output_type": "display_data"
    }
   ],
   "source": [
    "options(repr.plot.width=18, repr.plot.height=7)\n",
    "accuracies_corss_validation_plot<-accuracies|>\n",
    "ggplot(aes(x=size,y=accuracy))+\n",
    "geom_point()+\n",
    "geom_line()+\n",
    "labs(x=\"Number of predictors\",y=\"Estimated Accuracy\",\n",
    "     caption =\"Figure 1- overlapping line and scaatter plots, comparing number of predictors and resulting estimated cross validation accuracy.\")+\n",
    "theme(text=element_text(size=20))+\n",
    "ggtitle(\"(Figure 1) Cross Validation Accuracy Estimate when Increasing Number of Predictors\")\n",
    "\n",
    "\n",
    "accuracies_corss_validation_plot"
   ]
  },
  {
   "cell_type": "code",
   "execution_count": 16,
   "id": "e48c3d92-39ac-4005-abc3-0fa1ac7d6907",
   "metadata": {},
   "outputs": [
    {
     "data": {
      "text/html": [
       "15"
      ],
      "text/latex": [
       "15"
      ],
      "text/markdown": [
       "15"
      ],
      "text/plain": [
       "[1] 15"
      ]
     },
     "metadata": {},
     "output_type": "display_data"
    },
    {
     "data": {
      "text/html": [
       "2"
      ],
      "text/latex": [
       "2"
      ],
      "text/markdown": [
       "2"
      ],
      "text/plain": [
       "[1] 2"
      ]
     },
     "metadata": {},
     "output_type": "display_data"
    },
    {
     "data": {
      "text/html": [
       "0.6"
      ],
      "text/latex": [
       "0.6"
      ],
      "text/markdown": [
       "0.6"
      ],
      "text/plain": [
       "[1] 0.6"
      ]
     },
     "metadata": {},
     "output_type": "display_data"
    },
    {
     "data": {
      "text/html": [
       "0.509090909090909"
      ],
      "text/latex": [
       "0.509090909090909"
      ],
      "text/markdown": [
       "0.509090909090909"
      ],
      "text/plain": [
       "[1] 0.5090909"
      ]
     },
     "metadata": {},
     "output_type": "display_data"
    },
    {
     "data": {
      "text/html": [
       "0.6"
      ],
      "text/latex": [
       "0.6"
      ],
      "text/markdown": [
       "0.6"
      ],
      "text/plain": [
       "[1] 0.6"
      ]
     },
     "metadata": {},
     "output_type": "display_data"
    },
    {
     "data": {
      "text/html": [
       "0.672727272727273"
      ],
      "text/latex": [
       "0.672727272727273"
      ],
      "text/markdown": [
       "0.672727272727273"
      ],
      "text/plain": [
       "[1] 0.6727273"
      ]
     },
     "metadata": {},
     "output_type": "display_data"
    },
    {
     "data": {
      "text/html": [
       "0.654545454545455"
      ],
      "text/latex": [
       "0.654545454545455"
      ],
      "text/markdown": [
       "0.654545454545455"
      ],
      "text/plain": [
       "[1] 0.6545455"
      ]
     },
     "metadata": {},
     "output_type": "display_data"
    }
   ],
   "source": [
    "set.seed(18)\n",
    "#test the five classifiers on the testing dataset\n",
    "\n",
    "heartDisease_vfold <- vfold_cv(upsampled_cleveland_training_subset, v = 5, strata = num)\n",
    "\n",
    "knn_spec <- nearest_neighbor(weight_func = \"rectangular\", neighbors = tune()) |>\n",
    "  set_engine(\"kknn\") |>\n",
    "  set_mode(\"classification\")\n",
    "#neighbors vs cross vaalidation accuracy\n",
    "\n",
    "recipe_size1 <- recipe(num ~ trestbps, data = upsampled_cleveland_training_subset) |>\n",
    "  step_scale(all_predictors()) |>\n",
    "  step_center(all_predictors())\n",
    "\n",
    "best_k_size1 <- workflow() |>\n",
    "  add_recipe(recipe_size1) |>\n",
    "  add_model(knn_spec) |>\n",
    "  tune_grid(resamples = heartDisease_vfold, grid = 10) |>\n",
    "  collect_metrics()|>\n",
    "  filter(.metric == \"accuracy\")|>\n",
    "  arrange(desc(mean))|>\n",
    "  head(1)|>\n",
    "  pull(neighbors)\n",
    "\n",
    "best_spec_size1 <- nearest_neighbor(weight_func = \"rectangular\", neighbors = best_k_size1) |>\n",
    "         set_engine(\"kknn\") |>\n",
    "         set_mode(\"classification\")\n",
    "\n",
    "\n",
    "accuracy_testing_dataset_size1 <- workflow() |>\n",
    "         add_recipe(recipe_size1) |>\n",
    "         add_model(best_spec_size1) |>\n",
    "         fit(data = upsampled_cleveland_training_subset)|>\n",
    "          predict(cleveland_testing_subset) |>\n",
    "          bind_cols(cleveland_testing_subset) |>\n",
    "          metrics(truth = num, estimate = .pred_class)|>\n",
    "          filter(.metric == \"accuracy\")|>\n",
    "          pull(.estimate)\n",
    "          \n",
    "\n",
    "\n",
    "recipe_size2 <- recipe(num ~ trestbps+age, data = upsampled_cleveland_training_subset) |>\n",
    "  step_scale(all_predictors()) |>\n",
    "  step_center(all_predictors())\n",
    "\n",
    "best_k_size2 <- workflow() |>\n",
    "  add_recipe(recipe_size2) |>\n",
    "  add_model(knn_spec) |>\n",
    "  tune_grid(resamples = heartDisease_vfold, grid = 10) |>\n",
    "  collect_metrics()|>\n",
    "  filter(.metric == \"accuracy\")|>\n",
    "  arrange(desc(mean))|>\n",
    "  head(1)|>\n",
    "  pull(neighbors)\n",
    "\n",
    "best_spec_size2 <- nearest_neighbor(weight_func = \"rectangular\", neighbors = best_k_size2) |>\n",
    "         set_engine(\"kknn\") |>\n",
    "         set_mode(\"classification\")\n",
    "\n",
    "accuracy_testing_dataset_size2 <- workflow() |>\n",
    "         add_recipe(recipe_size2) |>\n",
    "         add_model(best_spec_size2) |>\n",
    "         fit(data = upsampled_cleveland_training_subset)|>\n",
    "          predict(cleveland_testing_subset) |>\n",
    "          bind_cols(cleveland_testing_subset) |>\n",
    "          metrics(truth = num, estimate = .pred_class)|>\n",
    "          filter(.metric == \"accuracy\")|>\n",
    "          pull(.estimate)\n",
    "\n",
    "\n",
    "recipe_size3 <- recipe(num ~ trestbps+age+oldpeak, data = upsampled_cleveland_training_subset) |>\n",
    "  step_scale(all_predictors()) |>\n",
    "  step_center(all_predictors())\n",
    "\n",
    "best_k_size3 <- workflow() |>\n",
    "  add_recipe(recipe_size3) |>\n",
    "  add_model(knn_spec) |>\n",
    "  tune_grid(resamples = heartDisease_vfold, grid = 10) |>\n",
    "  collect_metrics()|>\n",
    "  filter(.metric == \"accuracy\")|>\n",
    "  arrange(desc(mean))|>\n",
    "  head(1)|>\n",
    "  pull(neighbors)\n",
    "\n",
    "best_spec_size3 <- nearest_neighbor(weight_func = \"rectangular\", neighbors = best_k_size3) |>\n",
    "         set_engine(\"kknn\") |>\n",
    "         set_mode(\"classification\")\n",
    "\n",
    "accuracy_testing_dataset_size3 <- workflow() |>\n",
    "         add_recipe(recipe_size3) |>\n",
    "         add_model(best_spec_size3) |>\n",
    "         fit(data = upsampled_cleveland_training_subset)|>\n",
    "          predict(cleveland_testing_subset) |>\n",
    "          bind_cols(cleveland_testing_subset) |>\n",
    "          metrics(truth = num, estimate = .pred_class)|>\n",
    "          filter(.metric == \"accuracy\")|>\n",
    "          pull(.estimate)\n",
    "\n",
    "recipe_size4 <- recipe(num ~ trestbps+age+oldpeak+chol, data = upsampled_cleveland_training_subset) |>\n",
    "  step_scale(all_predictors()) |>\n",
    "  step_center(all_predictors())\n",
    "\n",
    "best_k_size4 <- workflow() |>\n",
    "  add_recipe(recipe_size4) |>\n",
    "  add_model(knn_spec) |>\n",
    "  tune_grid(resamples = heartDisease_vfold, grid = 10) |>\n",
    "  collect_metrics()|>\n",
    "  filter(.metric == \"accuracy\")|>\n",
    "  arrange(desc(mean))|>\n",
    "  head(1)|>\n",
    "  pull(neighbors)\n",
    "\n",
    "best_spec_size4 <- nearest_neighbor(weight_func = \"rectangular\", neighbors = best_k_size4) |>\n",
    "         set_engine(\"kknn\") |>\n",
    "         set_mode(\"classification\")\n",
    "\n",
    "accuracy_testing_dataset_size4 <- workflow() |>\n",
    "         add_recipe(recipe_size4) |>\n",
    "         add_model(best_spec_size4) |>\n",
    "         fit(data = upsampled_cleveland_training_subset)|>\n",
    "          predict(cleveland_testing_subset) |>\n",
    "          bind_cols(cleveland_testing_subset) |>\n",
    "          metrics(truth = num, estimate = .pred_class)|>\n",
    "          filter(.metric == \"accuracy\")|>\n",
    "          pull(.estimate)\n",
    "\n",
    "\n",
    "recipe_size5 <- recipe(num ~ trestbps+age+oldpeak+chol+thalach, data = upsampled_cleveland_training_subset) |>\n",
    "  step_scale(all_predictors()) |>\n",
    "  step_center(all_predictors())\n",
    "\n",
    "best_k_size5 <- workflow() |>\n",
    "  add_recipe(recipe_size5) |>\n",
    "  add_model(knn_spec) |>\n",
    "  tune_grid(resamples = heartDisease_vfold, grid = 10) |>\n",
    "  collect_metrics()|>\n",
    "  filter(.metric == \"accuracy\")|>\n",
    "  arrange(desc(mean))|>\n",
    "  head(1)|>\n",
    "  pull(neighbors)\n",
    "\n",
    "best_spec_size5 <- nearest_neighbor(weight_func = \"rectangular\", neighbors = best_k_size5) |>\n",
    "         set_engine(\"kknn\") |>\n",
    "         set_mode(\"classification\")\n",
    "\n",
    "accuracy_testing_dataset_size5 <- workflow() |>\n",
    "         add_recipe(recipe_size5) |>\n",
    "         add_model(best_spec_size5) |>\n",
    "         fit(data = upsampled_cleveland_training_subset)|>\n",
    "          predict(cleveland_testing_subset) |>\n",
    "          bind_cols(cleveland_testing_subset) |>\n",
    "          metrics(truth = num, estimate = .pred_class)|>\n",
    "          filter(.metric == \"accuracy\")|>\n",
    "          pull(.estimate)\n",
    "###\n",
    "\n",
    "accuracy_testing_dataset_size1\n",
    "accuracy_testing_dataset_size2\n",
    "accuracy_testing_dataset_size3\n",
    "accuracy_testing_dataset_size4\n",
    "accuracy_testing_dataset_size5"
   ]
  },
  {
   "cell_type": "code",
   "execution_count": 53,
   "id": "3da3e748-368d-44a8-a569-68442fc8d61a",
   "metadata": {},
   "outputs": [
    {
     "data": {
      "text/html": [
       "<table class=\"dataframe\">\n",
       "<caption>A tibble: 5 × 3</caption>\n",
       "<thead>\n",
       "\t<tr><th scope=col>size</th><th scope=col>model_string</th><th scope=col>accuracy</th></tr>\n",
       "\t<tr><th scope=col>&lt;dbl&gt;</th><th scope=col>&lt;chr&gt;</th><th scope=col>&lt;dbl&gt;</th></tr>\n",
       "</thead>\n",
       "<tbody>\n",
       "\t<tr><td>1</td><td>num ~ age                              </td><td>0.6000000</td></tr>\n",
       "\t<tr><td>2</td><td>num ~ age+chol                         </td><td>0.5090909</td></tr>\n",
       "\t<tr><td>3</td><td>num ~ age+chol+oldpeak                 </td><td>0.6000000</td></tr>\n",
       "\t<tr><td>4</td><td>num ~ age+chol+oldpeak+trestbps        </td><td>0.6727273</td></tr>\n",
       "\t<tr><td>5</td><td>num ~ age+chol+oldpeak+trestbps+thalach</td><td>0.6545455</td></tr>\n",
       "</tbody>\n",
       "</table>\n"
      ],
      "text/latex": [
       "A tibble: 5 × 3\n",
       "\\begin{tabular}{lll}\n",
       " size & model\\_string & accuracy\\\\\n",
       " <dbl> & <chr> & <dbl>\\\\\n",
       "\\hline\n",
       "\t 1 & num \\textasciitilde{} age                               & 0.6000000\\\\\n",
       "\t 2 & num \\textasciitilde{} age+chol                          & 0.5090909\\\\\n",
       "\t 3 & num \\textasciitilde{} age+chol+oldpeak                  & 0.6000000\\\\\n",
       "\t 4 & num \\textasciitilde{} age+chol+oldpeak+trestbps         & 0.6727273\\\\\n",
       "\t 5 & num \\textasciitilde{} age+chol+oldpeak+trestbps+thalach & 0.6545455\\\\\n",
       "\\end{tabular}\n"
      ],
      "text/markdown": [
       "\n",
       "A tibble: 5 × 3\n",
       "\n",
       "| size &lt;dbl&gt; | model_string &lt;chr&gt; | accuracy &lt;dbl&gt; |\n",
       "|---|---|---|\n",
       "| 1 | num ~ age                               | 0.6000000 |\n",
       "| 2 | num ~ age+chol                          | 0.5090909 |\n",
       "| 3 | num ~ age+chol+oldpeak                  | 0.6000000 |\n",
       "| 4 | num ~ age+chol+oldpeak+trestbps         | 0.6727273 |\n",
       "| 5 | num ~ age+chol+oldpeak+trestbps+thalach | 0.6545455 |\n",
       "\n"
      ],
      "text/plain": [
       "  size model_string                            accuracy \n",
       "1 1    num ~ age                               0.6000000\n",
       "2 2    num ~ age+chol                          0.5090909\n",
       "3 3    num ~ age+chol+oldpeak                  0.6000000\n",
       "4 4    num ~ age+chol+oldpeak+trestbps         0.6727273\n",
       "5 5    num ~ age+chol+oldpeak+trestbps+thalach 0.6545455"
      ]
     },
     "metadata": {},
     "output_type": "display_data"
    }
   ],
   "source": [
    "size<-list(1, 2, 3, 4, 5)\n",
    "model_string<-list(\"num ~ age\", \"num ~ age+chol\",\n",
    "                   \"num ~ age+chol+oldpeak\",\n",
    "                   \"num ~ age+chol+oldpeak+trestbps\",\n",
    "                   \"num ~ age+chol+oldpeak+trestbps+thalach\")\n",
    "accuracy <- list(accuracy_testing_dataset_size1,\n",
    "accuracy_testing_dataset_size2,\n",
    "accuracy_testing_dataset_size3,\n",
    "accuracy_testing_dataset_size4,\n",
    "accuracy_testing_dataset_size5)\n",
    "\n",
    "\n",
    "\n",
    "testing_accuracies<-tibble(size|>unlist(), model_string|>unlist(), accuracy|>unlist())|>\n",
    "rename(size=\"unlist(size)\", model_string=\"unlist(model_string)\",accuracy=\"unlist(accuracy)\")\n",
    "col_names <- c(\"size\", \"model_string\", \"accuracy\")\n",
    "\n",
    "testing_accuracies\n",
    "\n"
   ]
  },
  {
   "cell_type": "code",
   "execution_count": 54,
   "id": "dba041d0-9550-4969-ac40-400343e13dad",
   "metadata": {},
   "outputs": [
    {
     "data": {
      "image/png": "[encoded data removed]",
      "text/plain": [
       "plot without title"
      ]
     },
     "metadata": {
      "image/png": {
       "height": 420,
       "width": 1080
      }
     },
     "output_type": "display_data"
    }
   ],
   "source": [
    "options(repr.plot.width=18, repr.plot.height=7)\n",
    "accuracies_testing_data_plot<-testing_accuracies|>\n",
    "ggplot(aes(x=size,y=accuracy))+\n",
    "geom_point()+\n",
    "geom_line()+\n",
    "labs(x=\"Number of predictors\",y=\"Estimated Accuracy\",\n",
    "     caption =\"Figure 2- overlapping line and scaatter plots, comparing number of predictors and resulting estimated classifier accuracy based on set.\")+\n",
    "theme(text=element_text(size=20))+\n",
    "ggtitle(\"(Figure 2)Testing Data Accuracy Estimate when Increasing Number of Predictors\")\n",
    "\n",
    "\n",
    "accuracies_testing_data_plot"
   ]
  },
  {
   "cell_type": "code",
   "execution_count": 55,
   "id": "edb3d1d5-93f1-473a-8162-c340bcaf183d",
   "metadata": {},
   "outputs": [
    {
     "data": {
      "image/png": "[encoded data removed]",
      "text/plain": [
       "plot without title"
      ]
     },
     "metadata": {
      "image/png": {
       "height": 420,
       "width": 1080
      }
     },
     "output_type": "display_data"
    }
   ],
   "source": [
    "plot_grid(accuracies_corss_validation_plot, accuracies_testing_data_plot, ncol = 2)"
   ]
  },
  {
   "cell_type": "markdown",
   "id": "e150f602-bb67-417d-ae06-3e0e852cf7bf",
   "metadata": {},
   "source": [
    "## Expected outcomes and significance:\n",
    "### What do you expect to find?\n",
    "It is expected that different regions will have different predictors predicting if new observations are diagnosed with heart disease or not. We hypothesize that classifiers should be region specific to optimize accuracy. On top of numerical predictors, which we found to be appropriate, sex also could be a relevant predictor.\n",
    "\n",
    "### What impact could such findings have?\n",
    "An accurate classifier could ease the healthcare system and improve efficiency by distributing healthcare personnel to more urgent situations. It could also create a cheaper alternative for government and private healthcare systems.\n",
    "\n",
    "### What future questions could this lead to?\n",
    "\n",
    "More research can be produced in reagrds to whether if numerical predictions lead to different diagnoses in different regions and if it would be more beneficial to build a classifier per region or one giant classifier (via classifier accuracy analysis)?\n",
    "\n",
    "Preliminary data already indicated that a higher maximum heart rate leads to lower chances of heart disease. Methods to maximize heart rate could be a research question that aids preventative care. With more healthy individuals, there will be a less exhausted healthcare system. #() \n",
    "\n",
    "Finally, more data could be collected on if external factors such as environmental, economical, political, and social could affect current predictors in this classifier.\n",
    "\n",
    "\n",
    "\n",
    "\n",
    "\n"
   ]
  },
  {
   "cell_type": "code",
   "execution_count": null,
   "id": "50e12499-1aa0-49d9-9b53-936215dc5510",
   "metadata": {},
   "outputs": [],
   "source": []
  }
 ],
 "metadata": {
  "kernelspec": {
   "display_name": "R",
   "language": "R",
   "name": "ir"
  },
  "language_info": {
   "codemirror_mode": "r",
   "file_extension": ".r",
   "mimetype": "text/x-r-source",
   "name": "R",
   "pygments_lexer": "r",
   "version": "4.1.3"
  }
 },
 "nbformat": 4,
 "nbformat_minor": 5
}
