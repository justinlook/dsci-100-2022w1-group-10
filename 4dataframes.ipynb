{
 "cells": [
  {
   "cell_type": "code",
   "execution_count": 156,
   "id": "69c88dee-6c83-4dea-b65f-c9b744fa6f53",
   "metadata": {},
   "outputs": [],
   "source": [
    "library(tidyverse)\n",
    "library(tidymodels)\n",
    "library(repr)\n",
    "options(repr.matrix.max.rows=6)"
   ]
  },
  {
   "cell_type": "markdown",
   "id": "b8c10aab-c7a5-4808-8039-7c918bb1d0a6",
   "metadata": {
    "tags": []
   },
   "source": [
    "### Project Proposal"
   ]
  },
  {
   "cell_type": "markdown",
   "id": "4395c369-c4ea-4f52-adb6-e65e56645721",
   "metadata": {},
   "source": [
    "### Preliminary Exploratory Data Analysis\n"
   ]
  },
  {
   "cell_type": "markdown",
   "id": "88c664af-b87e-406b-84ec-54a7ab881917",
   "metadata": {},
   "source": [
    "Firstly, we read the 4 datasets directly from the webs, give every column a specfic header name, and use mutate to convert every column into the correct and most appropriate data type. Then, all of datasets are in a tidy fromat. \n",
    "\n",
    "Secondly, we split every dataset into a training set and a testing set with strata = num, ensuring that roughly the same proportion of 0 and 1(0 means no diagnosis; 1 means disagosed) ends up in both training and testing sets. In next steps, we only analyze, summarize, and visualize the the traning sets of the 4 datasets."
   ]
  },
  {
   "cell_type": "code",
   "execution_count": 157,
   "id": "59113927-20f5-4770-b1ea-e2345d8f6702",
   "metadata": {},
   "outputs": [
    {
     "name": "stderr",
     "output_type": "stream",
     "text": [
      "\u001b[1mRows: \u001b[22m\u001b[34m303\u001b[39m \u001b[1mColumns: \u001b[22m\u001b[34m14\u001b[39m\n",
      "\u001b[36m──\u001b[39m \u001b[1mColumn specification\u001b[22m \u001b[36m────────────────────────────────────────────────────────\u001b[39m\n",
      "\u001b[1mDelimiter:\u001b[22m \",\"\n",
      "\u001b[31mchr\u001b[39m  (2): ca, thal\n",
      "\u001b[32mdbl\u001b[39m (12): age, sex, cp, trestbps, chol, fbs, restecg, thalach, exang, oldpea...\n",
      "\n",
      "\u001b[36mℹ\u001b[39m Use `spec()` to retrieve the full column specification for this data.\n",
      "\u001b[36mℹ\u001b[39m Specify the column types or set `show_col_types = FALSE` to quiet this message.\n"
     ]
    }
   ],
   "source": [
    "set.seed(18)\n",
    "con_names1<-c(\"age\",\"sex\",\"cp\",\"trestbps\",\"chol\",\"fbs\",\"restecg\",\"thalach\",\"exang\", \"oldpeak\",\"slope\",\"ca\",\"thal\",\"num\")\n",
    "heart_cleaveland<-read_csv(\"https://archive.ics.uci.edu/ml/machine-learning-databases/heart-disease/processed.cleveland.data\",\n",
    "                           col_names = con_names1)\n",
    "\n",
    "cleaveland_mutate<-heart_cleaveland|>\n",
    "filter(num == 1 | num == 0)|>\n",
    "mutate(sex=as_factor(sex))|>\n",
    "mutate(cp=as_factor(cp))|>\n",
    "mutate(fbs=as_factor(fbs))|>\n",
    "mutate(restecg=as_factor(restecg))|>\n",
    "mutate(exang=as_factor(exang))|>\n",
    "mutate(slope=as_factor(slope))|>\n",
    "mutate(ca=as_factor(ca))|>\n",
    "mutate(thal=as_factor(thal))|>\n",
    "mutate(num=as_factor(num))\n",
    "\n",
    "cleaveland_split <- initial_split(cleaveland_mutate, prop = 0.75, strata = num)\n",
    "cleaveland_training <- training(cleaveland_split)\n",
    "cleaveland_testing <- testing(cleaveland_split)\n",
    "\n",
    "cleaveland_training"
   ]
  },
  {
   "cell_type": "code",
   "execution_count": 158,
   "id": "c91959c8-318c-44b8-83d0-a1c40f7be415",
   "metadata": {},
   "outputs": [
    {
     "name": "stderr",
     "output_type": "stream",
     "text": [
      "\u001b[1mRows: \u001b[22m\u001b[34m123\u001b[39m \u001b[1mColumns: \u001b[22m\u001b[34m14\u001b[39m\n",
      "\u001b[36m──\u001b[39m \u001b[1mColumn specification\u001b[22m \u001b[36m────────────────────────────────────────────────────────\u001b[39m\n",
      "\u001b[1mDelimiter:\u001b[22m \",\"\n",
      "\u001b[31mchr\u001b[39m (9): trestbps, fbs, restecg, thalach, exang, oldpeak, slope, ca, thal\n",
      "\u001b[32mdbl\u001b[39m (5): age, sex, cp, chol, num\n",
      "\n",
      "\u001b[36mℹ\u001b[39m Use `spec()` to retrieve the full column specification for this data.\n",
      "\u001b[36mℹ\u001b[39m Specify the column types or set `show_col_types = FALSE` to quiet this message.\n"
     ]
    },
    {
     "data": {
      "text/html": [
       "<table class=\"dataframe\">\n",
       "<caption>A tibble: 42 × 14</caption>\n",
       "<thead>\n",
       "\t<tr><th scope=col>age</th><th scope=col>sex</th><th scope=col>cp</th><th scope=col>trestbps</th><th scope=col>chol</th><th scope=col>fbs</th><th scope=col>restecg</th><th scope=col>thalach</th><th scope=col>exang</th><th scope=col>oldpeak</th><th scope=col>slope</th><th scope=col>ca</th><th scope=col>thal</th><th scope=col>num</th></tr>\n",
       "\t<tr><th scope=col>&lt;dbl&gt;</th><th scope=col>&lt;fct&gt;</th><th scope=col>&lt;fct&gt;</th><th scope=col>&lt;chr&gt;</th><th scope=col>&lt;dbl&gt;</th><th scope=col>&lt;fct&gt;</th><th scope=col>&lt;fct&gt;</th><th scope=col>&lt;chr&gt;</th><th scope=col>&lt;fct&gt;</th><th scope=col>&lt;chr&gt;</th><th scope=col>&lt;fct&gt;</th><th scope=col>&lt;fct&gt;</th><th scope=col>&lt;fct&gt;</th><th scope=col>&lt;fct&gt;</th></tr>\n",
       "</thead>\n",
       "<tbody>\n",
       "\t<tr><td>45</td><td>1</td><td>3</td><td>110</td><td>0</td><td>?</td><td>0</td><td>138</td><td>0</td><td>-.1</td><td>1</td><td>?</td><td>?</td><td>0</td></tr>\n",
       "\t<tr><td>53</td><td>1</td><td>4</td><td>80 </td><td>0</td><td>?</td><td>0</td><td>141</td><td>1</td><td>2  </td><td>3</td><td>?</td><td>?</td><td>0</td></tr>\n",
       "\t<tr><td>55</td><td>1</td><td>2</td><td>140</td><td>0</td><td>?</td><td>1</td><td>150</td><td>0</td><td>.2 </td><td>1</td><td>?</td><td>?</td><td>0</td></tr>\n",
       "\t<tr><td>⋮</td><td>⋮</td><td>⋮</td><td>⋮</td><td>⋮</td><td>⋮</td><td>⋮</td><td>⋮</td><td>⋮</td><td>⋮</td><td>⋮</td><td>⋮</td><td>⋮</td><td>⋮</td></tr>\n",
       "\t<tr><td>65</td><td>1</td><td>4</td><td>115</td><td>0</td><td>0</td><td>0</td><td>93 </td><td>1</td><td>0  </td><td>2</td><td>?</td><td>7</td><td>1</td></tr>\n",
       "\t<tr><td>66</td><td>0</td><td>4</td><td>155</td><td>0</td><td>?</td><td>0</td><td>90 </td><td>0</td><td>0  </td><td>?</td><td>?</td><td>7</td><td>1</td></tr>\n",
       "\t<tr><td>74</td><td>1</td><td>2</td><td>145</td><td>0</td><td>?</td><td>1</td><td>123</td><td>0</td><td>1.3</td><td>1</td><td>?</td><td>?</td><td>1</td></tr>\n",
       "</tbody>\n",
       "</table>\n"
      ],
      "text/latex": [
       "A tibble: 42 × 14\n",
       "\\begin{tabular}{llllllllllllll}\n",
       " age & sex & cp & trestbps & chol & fbs & restecg & thalach & exang & oldpeak & slope & ca & thal & num\\\\\n",
       " <dbl> & <fct> & <fct> & <chr> & <dbl> & <fct> & <fct> & <chr> & <fct> & <chr> & <fct> & <fct> & <fct> & <fct>\\\\\n",
       "\\hline\n",
       "\t 45 & 1 & 3 & 110 & 0 & ? & 0 & 138 & 0 & -.1 & 1 & ? & ? & 0\\\\\n",
       "\t 53 & 1 & 4 & 80  & 0 & ? & 0 & 141 & 1 & 2   & 3 & ? & ? & 0\\\\\n",
       "\t 55 & 1 & 2 & 140 & 0 & ? & 1 & 150 & 0 & .2  & 1 & ? & ? & 0\\\\\n",
       "\t ⋮ & ⋮ & ⋮ & ⋮ & ⋮ & ⋮ & ⋮ & ⋮ & ⋮ & ⋮ & ⋮ & ⋮ & ⋮ & ⋮\\\\\n",
       "\t 65 & 1 & 4 & 115 & 0 & 0 & 0 & 93  & 1 & 0   & 2 & ? & 7 & 1\\\\\n",
       "\t 66 & 0 & 4 & 155 & 0 & ? & 0 & 90  & 0 & 0   & ? & ? & 7 & 1\\\\\n",
       "\t 74 & 1 & 2 & 145 & 0 & ? & 1 & 123 & 0 & 1.3 & 1 & ? & ? & 1\\\\\n",
       "\\end{tabular}\n"
      ],
      "text/markdown": [
       "\n",
       "A tibble: 42 × 14\n",
       "\n",
       "| age &lt;dbl&gt; | sex &lt;fct&gt; | cp &lt;fct&gt; | trestbps &lt;chr&gt; | chol &lt;dbl&gt; | fbs &lt;fct&gt; | restecg &lt;fct&gt; | thalach &lt;chr&gt; | exang &lt;fct&gt; | oldpeak &lt;chr&gt; | slope &lt;fct&gt; | ca &lt;fct&gt; | thal &lt;fct&gt; | num &lt;fct&gt; |\n",
       "|---|---|---|---|---|---|---|---|---|---|---|---|---|---|\n",
       "| 45 | 1 | 3 | 110 | 0 | ? | 0 | 138 | 0 | -.1 | 1 | ? | ? | 0 |\n",
       "| 53 | 1 | 4 | 80  | 0 | ? | 0 | 141 | 1 | 2   | 3 | ? | ? | 0 |\n",
       "| 55 | 1 | 2 | 140 | 0 | ? | 1 | 150 | 0 | .2  | 1 | ? | ? | 0 |\n",
       "| ⋮ | ⋮ | ⋮ | ⋮ | ⋮ | ⋮ | ⋮ | ⋮ | ⋮ | ⋮ | ⋮ | ⋮ | ⋮ | ⋮ |\n",
       "| 65 | 1 | 4 | 115 | 0 | 0 | 0 | 93  | 1 | 0   | 2 | ? | 7 | 1 |\n",
       "| 66 | 0 | 4 | 155 | 0 | ? | 0 | 90  | 0 | 0   | ? | ? | 7 | 1 |\n",
       "| 74 | 1 | 2 | 145 | 0 | ? | 1 | 123 | 0 | 1.3 | 1 | ? | ? | 1 |\n",
       "\n"
      ],
      "text/plain": [
       "   age sex cp trestbps chol fbs restecg thalach exang oldpeak slope ca thal num\n",
       "1  45  1   3  110      0    ?   0       138     0     -.1     1     ?  ?    0  \n",
       "2  53  1   4  80       0    ?   0       141     1     2       3     ?  ?    0  \n",
       "3  55  1   2  140      0    ?   1       150     0     .2      1     ?  ?    0  \n",
       "⋮  ⋮   ⋮   ⋮  ⋮        ⋮    ⋮   ⋮       ⋮       ⋮     ⋮       ⋮     ⋮  ⋮    ⋮  \n",
       "40 65  1   4  115      0    0   0       93      1     0       2     ?  7    1  \n",
       "41 66  0   4  155      0    ?   0       90      0     0       ?     ?  7    1  \n",
       "42 74  1   2  145      0    ?   1       123     0     1.3     1     ?  ?    1  "
      ]
     },
     "metadata": {},
     "output_type": "display_data"
    }
   ],
   "source": [
    "heart_switzerland<-read_csv(\"https://archive.ics.uci.edu/ml/machine-learning-databases/heart-disease/processed.switzerland.data\", \n",
    "                            col_names = con_names1)\n",
    "switzerland_mutate <- heart_switzerland|>\n",
    "filter(num==0|num==1)|>\n",
    "mutate(sex=as_factor(sex))|>\n",
    "mutate(cp=as_factor(cp))|>\n",
    "mutate(fbs=as_factor(fbs))|>\n",
    "mutate(restecg=as_factor(restecg))|>\n",
    "mutate(exang=as_factor(exang))|>\n",
    "mutate(slope=as_factor(slope))|>\n",
    "mutate(ca=as_factor(ca))|>\n",
    "mutate(thal=as_factor(thal))|>\n",
    "mutate(num=as_factor(num))\n",
    "\n",
    "switzerland_split <- initial_split(switzerland_mutate, prop = 0.75, strata = num)\n",
    "switzerland_training <- training(switzerland_split)\n",
    "switzerland_testing <- testing(switzerland_split)\n",
    "\n",
    "switzerland_training\n"
   ]
  },
  {
   "cell_type": "code",
   "execution_count": 159,
   "id": "b90bf232-ec62-460a-a072-446ab5ddf2cf",
   "metadata": {},
   "outputs": [
    {
     "name": "stderr",
     "output_type": "stream",
     "text": [
      "\u001b[1mRows: \u001b[22m\u001b[34m200\u001b[39m \u001b[1mColumns: \u001b[22m\u001b[34m14\u001b[39m\n",
      "\u001b[36m──\u001b[39m \u001b[1mColumn specification\u001b[22m \u001b[36m────────────────────────────────────────────────────────\u001b[39m\n",
      "\u001b[1mDelimiter:\u001b[22m \",\"\n",
      "\u001b[31mchr\u001b[39m (9): trestbps, chol, fbs, thalach, exang, oldpeak, slope, ca, thal\n",
      "\u001b[32mdbl\u001b[39m (5): age, sex, cp, restecg, num\n",
      "\n",
      "\u001b[36mℹ\u001b[39m Use `spec()` to retrieve the full column specification for this data.\n",
      "\u001b[36mℹ\u001b[39m Specify the column types or set `show_col_types = FALSE` to quiet this message.\n"
     ]
    },
    {
     "data": {
      "text/html": [
       "<table class=\"dataframe\">\n",
       "<caption>A tibble: 80 × 14</caption>\n",
       "<thead>\n",
       "\t<tr><th scope=col>age</th><th scope=col>sex</th><th scope=col>cp</th><th scope=col>trestbps</th><th scope=col>chol</th><th scope=col>fbs</th><th scope=col>restecg</th><th scope=col>thalach</th><th scope=col>exang</th><th scope=col>oldpeak</th><th scope=col>slope</th><th scope=col>ca</th><th scope=col>thal</th><th scope=col>num</th></tr>\n",
       "\t<tr><th scope=col>&lt;dbl&gt;</th><th scope=col>&lt;fct&gt;</th><th scope=col>&lt;fct&gt;</th><th scope=col>&lt;chr&gt;</th><th scope=col>&lt;chr&gt;</th><th scope=col>&lt;fct&gt;</th><th scope=col>&lt;fct&gt;</th><th scope=col>&lt;chr&gt;</th><th scope=col>&lt;fct&gt;</th><th scope=col>&lt;chr&gt;</th><th scope=col>&lt;fct&gt;</th><th scope=col>&lt;fct&gt;</th><th scope=col>&lt;fct&gt;</th><th scope=col>&lt;fct&gt;</th></tr>\n",
       "</thead>\n",
       "<tbody>\n",
       "\t<tr><td>44</td><td>1</td><td>4</td><td>130</td><td>209</td><td>0</td><td>1</td><td>127</td><td>0</td><td>0  </td><td>?</td><td>?</td><td>?</td><td>0</td></tr>\n",
       "\t<tr><td>66</td><td>1</td><td>3</td><td>110</td><td>213</td><td>1</td><td>2</td><td>99 </td><td>1</td><td>1.3</td><td>2</td><td>?</td><td>?</td><td>0</td></tr>\n",
       "\t<tr><td>60</td><td>1</td><td>3</td><td>180</td><td>0  </td><td>0</td><td>1</td><td>140</td><td>1</td><td>1.5</td><td>2</td><td>?</td><td>?</td><td>0</td></tr>\n",
       "\t<tr><td>⋮</td><td>⋮</td><td>⋮</td><td>⋮</td><td>⋮</td><td>⋮</td><td>⋮</td><td>⋮</td><td>⋮</td><td>⋮</td><td>⋮</td><td>⋮</td><td>⋮</td><td>⋮</td></tr>\n",
       "\t<tr><td>62</td><td>1</td><td>4</td><td>158</td><td>170</td><td>0</td><td>1</td><td>138</td><td>1</td><td>0</td><td>?</td><td>?</td><td>?</td><td>1</td></tr>\n",
       "\t<tr><td>54</td><td>0</td><td>4</td><td>127</td><td>333</td><td>1</td><td>1</td><td>154</td><td>0</td><td>0</td><td>?</td><td>?</td><td>?</td><td>1</td></tr>\n",
       "\t<tr><td>62</td><td>1</td><td>2</td><td>120</td><td>254</td><td>0</td><td>2</td><td>93 </td><td>1</td><td>0</td><td>?</td><td>?</td><td>?</td><td>1</td></tr>\n",
       "</tbody>\n",
       "</table>\n"
      ],
      "text/latex": [
       "A tibble: 80 × 14\n",
       "\\begin{tabular}{llllllllllllll}\n",
       " age & sex & cp & trestbps & chol & fbs & restecg & thalach & exang & oldpeak & slope & ca & thal & num\\\\\n",
       " <dbl> & <fct> & <fct> & <chr> & <chr> & <fct> & <fct> & <chr> & <fct> & <chr> & <fct> & <fct> & <fct> & <fct>\\\\\n",
       "\\hline\n",
       "\t 44 & 1 & 4 & 130 & 209 & 0 & 1 & 127 & 0 & 0   & ? & ? & ? & 0\\\\\n",
       "\t 66 & 1 & 3 & 110 & 213 & 1 & 2 & 99  & 1 & 1.3 & 2 & ? & ? & 0\\\\\n",
       "\t 60 & 1 & 3 & 180 & 0   & 0 & 1 & 140 & 1 & 1.5 & 2 & ? & ? & 0\\\\\n",
       "\t ⋮ & ⋮ & ⋮ & ⋮ & ⋮ & ⋮ & ⋮ & ⋮ & ⋮ & ⋮ & ⋮ & ⋮ & ⋮ & ⋮\\\\\n",
       "\t 62 & 1 & 4 & 158 & 170 & 0 & 1 & 138 & 1 & 0 & ? & ? & ? & 1\\\\\n",
       "\t 54 & 0 & 4 & 127 & 333 & 1 & 1 & 154 & 0 & 0 & ? & ? & ? & 1\\\\\n",
       "\t 62 & 1 & 2 & 120 & 254 & 0 & 2 & 93  & 1 & 0 & ? & ? & ? & 1\\\\\n",
       "\\end{tabular}\n"
      ],
      "text/markdown": [
       "\n",
       "A tibble: 80 × 14\n",
       "\n",
       "| age &lt;dbl&gt; | sex &lt;fct&gt; | cp &lt;fct&gt; | trestbps &lt;chr&gt; | chol &lt;chr&gt; | fbs &lt;fct&gt; | restecg &lt;fct&gt; | thalach &lt;chr&gt; | exang &lt;fct&gt; | oldpeak &lt;chr&gt; | slope &lt;fct&gt; | ca &lt;fct&gt; | thal &lt;fct&gt; | num &lt;fct&gt; |\n",
       "|---|---|---|---|---|---|---|---|---|---|---|---|---|---|\n",
       "| 44 | 1 | 4 | 130 | 209 | 0 | 1 | 127 | 0 | 0   | ? | ? | ? | 0 |\n",
       "| 66 | 1 | 3 | 110 | 213 | 1 | 2 | 99  | 1 | 1.3 | 2 | ? | ? | 0 |\n",
       "| 60 | 1 | 3 | 180 | 0   | 0 | 1 | 140 | 1 | 1.5 | 2 | ? | ? | 0 |\n",
       "| ⋮ | ⋮ | ⋮ | ⋮ | ⋮ | ⋮ | ⋮ | ⋮ | ⋮ | ⋮ | ⋮ | ⋮ | ⋮ | ⋮ |\n",
       "| 62 | 1 | 4 | 158 | 170 | 0 | 1 | 138 | 1 | 0 | ? | ? | ? | 1 |\n",
       "| 54 | 0 | 4 | 127 | 333 | 1 | 1 | 154 | 0 | 0 | ? | ? | ? | 1 |\n",
       "| 62 | 1 | 2 | 120 | 254 | 0 | 2 | 93  | 1 | 0 | ? | ? | ? | 1 |\n",
       "\n"
      ],
      "text/plain": [
       "   age sex cp trestbps chol fbs restecg thalach exang oldpeak slope ca thal num\n",
       "1  44  1   4  130      209  0   1       127     0     0       ?     ?  ?    0  \n",
       "2  66  1   3  110      213  1   2       99      1     1.3     2     ?  ?    0  \n",
       "3  60  1   3  180      0    0   1       140     1     1.5     2     ?  ?    0  \n",
       "⋮  ⋮   ⋮   ⋮  ⋮        ⋮    ⋮   ⋮       ⋮       ⋮     ⋮       ⋮     ⋮  ⋮    ⋮  \n",
       "78 62  1   4  158      170  0   1       138     1     0       ?     ?  ?    1  \n",
       "79 54  0   4  127      333  1   1       154     0     0       ?     ?  ?    1  \n",
       "80 62  1   2  120      254  0   2       93      1     0       ?     ?  ?    1  "
      ]
     },
     "metadata": {},
     "output_type": "display_data"
    }
   ],
   "source": [
    "heart_va <- read_csv(\"https://archive.ics.uci.edu/ml/machine-learning-databases/heart-disease/processed.va.data\", \n",
    "                     col_names = con_names1)\n",
    "\n",
    "va_mutate <- heart_va|>\n",
    "filter(num==0|num==1)|>\n",
    "mutate(sex=as_factor(sex))|>\n",
    "mutate(cp=as_factor(cp))|>\n",
    "mutate(fbs=as_factor(fbs))|>\n",
    "mutate(restecg=as_factor(restecg))|>\n",
    "mutate(exang=as_factor(exang))|>\n",
    "mutate(slope=as_factor(slope))|>\n",
    "mutate(ca=as_factor(ca))|>\n",
    "mutate(thal=as_factor(thal))|>\n",
    "mutate(num=as_factor(num))\n",
    "\n",
    "va_split <- initial_split(va_mutate, prop = 0.75, strata = num)\n",
    "va_training <- training(va_split)\n",
    "va_testing <- testing(va_split)\n",
    "\n",
    "va_training"
   ]
  },
  {
   "cell_type": "code",
   "execution_count": 160,
   "id": "02b87f59-48cc-4973-b7ec-908f967dbdff",
   "metadata": {},
   "outputs": [
    {
     "name": "stderr",
     "output_type": "stream",
     "text": [
      "\u001b[1mRows: \u001b[22m\u001b[34m294\u001b[39m \u001b[1mColumns: \u001b[22m\u001b[34m14\u001b[39m\n",
      "\u001b[36m──\u001b[39m \u001b[1mColumn specification\u001b[22m \u001b[36m────────────────────────────────────────────────────────\u001b[39m\n",
      "\u001b[1mDelimiter:\u001b[22m \" \"\n",
      "\u001b[32mdbl\u001b[39m (14): age, sex, cp, trestbps, chol, fbs, restecg, thalach, exang, oldpea...\n",
      "\n",
      "\u001b[36mℹ\u001b[39m Use `spec()` to retrieve the full column specification for this data.\n",
      "\u001b[36mℹ\u001b[39m Specify the column types or set `show_col_types = FALSE` to quiet this message.\n"
     ]
    },
    {
     "data": {
      "text/html": [
       "<table class=\"dataframe\">\n",
       "<caption>A tibble: 168 × 14</caption>\n",
       "<thead>\n",
       "\t<tr><th scope=col>age</th><th scope=col>sex</th><th scope=col>cp</th><th scope=col>trestbps</th><th scope=col>chol</th><th scope=col>fbs</th><th scope=col>restecg</th><th scope=col>thalach</th><th scope=col>exang</th><th scope=col>oldpeak</th><th scope=col>slope</th><th scope=col>ca</th><th scope=col>thal</th><th scope=col>num</th></tr>\n",
       "\t<tr><th scope=col>&lt;dbl&gt;</th><th scope=col>&lt;fct&gt;</th><th scope=col>&lt;fct&gt;</th><th scope=col>&lt;dbl&gt;</th><th scope=col>&lt;dbl&gt;</th><th scope=col>&lt;fct&gt;</th><th scope=col>&lt;fct&gt;</th><th scope=col>&lt;dbl&gt;</th><th scope=col>&lt;fct&gt;</th><th scope=col>&lt;dbl&gt;</th><th scope=col>&lt;fct&gt;</th><th scope=col>&lt;fct&gt;</th><th scope=col>&lt;fct&gt;</th><th scope=col>&lt;fct&gt;</th></tr>\n",
       "</thead>\n",
       "<tbody>\n",
       "\t<tr><td>37</td><td>1</td><td>2</td><td>130</td><td>283</td><td>0</td><td>1</td><td> 98</td><td>0</td><td>0</td><td>-9</td><td>-9</td><td>-9</td><td>0</td></tr>\n",
       "\t<tr><td>54</td><td>1</td><td>3</td><td>150</td><td> -9</td><td>0</td><td>0</td><td>122</td><td>0</td><td>0</td><td>-9</td><td>-9</td><td>-9</td><td>0</td></tr>\n",
       "\t<tr><td>45</td><td>0</td><td>2</td><td>130</td><td>237</td><td>0</td><td>0</td><td>170</td><td>0</td><td>0</td><td>-9</td><td>-9</td><td>-9</td><td>0</td></tr>\n",
       "\t<tr><td>⋮</td><td>⋮</td><td>⋮</td><td>⋮</td><td>⋮</td><td>⋮</td><td>⋮</td><td>⋮</td><td>⋮</td><td>⋮</td><td>⋮</td><td>⋮</td><td>⋮</td><td>⋮</td></tr>\n",
       "\t<tr><td>48</td><td>1</td><td>4</td><td>160</td><td>268</td><td>0</td><td>0</td><td>103</td><td>1</td><td>1</td><td>2</td><td>-9</td><td>-9</td><td>1</td></tr>\n",
       "\t<tr><td>48</td><td>1</td><td>4</td><td>120</td><td>260</td><td>0</td><td>0</td><td>115</td><td>0</td><td>2</td><td>2</td><td>-9</td><td>-9</td><td>1</td></tr>\n",
       "\t<tr><td>55</td><td>1</td><td>4</td><td>140</td><td>201</td><td>0</td><td>0</td><td>130</td><td>1</td><td>3</td><td>2</td><td>-9</td><td>-9</td><td>1</td></tr>\n",
       "</tbody>\n",
       "</table>\n"
      ],
      "text/latex": [
       "A tibble: 168 × 14\n",
       "\\begin{tabular}{llllllllllllll}\n",
       " age & sex & cp & trestbps & chol & fbs & restecg & thalach & exang & oldpeak & slope & ca & thal & num\\\\\n",
       " <dbl> & <fct> & <fct> & <dbl> & <dbl> & <fct> & <fct> & <dbl> & <fct> & <dbl> & <fct> & <fct> & <fct> & <fct>\\\\\n",
       "\\hline\n",
       "\t 37 & 1 & 2 & 130 & 283 & 0 & 1 &  98 & 0 & 0 & -9 & -9 & -9 & 0\\\\\n",
       "\t 54 & 1 & 3 & 150 &  -9 & 0 & 0 & 122 & 0 & 0 & -9 & -9 & -9 & 0\\\\\n",
       "\t 45 & 0 & 2 & 130 & 237 & 0 & 0 & 170 & 0 & 0 & -9 & -9 & -9 & 0\\\\\n",
       "\t ⋮ & ⋮ & ⋮ & ⋮ & ⋮ & ⋮ & ⋮ & ⋮ & ⋮ & ⋮ & ⋮ & ⋮ & ⋮ & ⋮\\\\\n",
       "\t 48 & 1 & 4 & 160 & 268 & 0 & 0 & 103 & 1 & 1 & 2 & -9 & -9 & 1\\\\\n",
       "\t 48 & 1 & 4 & 120 & 260 & 0 & 0 & 115 & 0 & 2 & 2 & -9 & -9 & 1\\\\\n",
       "\t 55 & 1 & 4 & 140 & 201 & 0 & 0 & 130 & 1 & 3 & 2 & -9 & -9 & 1\\\\\n",
       "\\end{tabular}\n"
      ],
      "text/markdown": [
       "\n",
       "A tibble: 168 × 14\n",
       "\n",
       "| age &lt;dbl&gt; | sex &lt;fct&gt; | cp &lt;fct&gt; | trestbps &lt;dbl&gt; | chol &lt;dbl&gt; | fbs &lt;fct&gt; | restecg &lt;fct&gt; | thalach &lt;dbl&gt; | exang &lt;fct&gt; | oldpeak &lt;dbl&gt; | slope &lt;fct&gt; | ca &lt;fct&gt; | thal &lt;fct&gt; | num &lt;fct&gt; |\n",
       "|---|---|---|---|---|---|---|---|---|---|---|---|---|---|\n",
       "| 37 | 1 | 2 | 130 | 283 | 0 | 1 |  98 | 0 | 0 | -9 | -9 | -9 | 0 |\n",
       "| 54 | 1 | 3 | 150 |  -9 | 0 | 0 | 122 | 0 | 0 | -9 | -9 | -9 | 0 |\n",
       "| 45 | 0 | 2 | 130 | 237 | 0 | 0 | 170 | 0 | 0 | -9 | -9 | -9 | 0 |\n",
       "| ⋮ | ⋮ | ⋮ | ⋮ | ⋮ | ⋮ | ⋮ | ⋮ | ⋮ | ⋮ | ⋮ | ⋮ | ⋮ | ⋮ |\n",
       "| 48 | 1 | 4 | 160 | 268 | 0 | 0 | 103 | 1 | 1 | 2 | -9 | -9 | 1 |\n",
       "| 48 | 1 | 4 | 120 | 260 | 0 | 0 | 115 | 0 | 2 | 2 | -9 | -9 | 1 |\n",
       "| 55 | 1 | 4 | 140 | 201 | 0 | 0 | 130 | 1 | 3 | 2 | -9 | -9 | 1 |\n",
       "\n"
      ],
      "text/plain": [
       "    age sex cp trestbps chol fbs restecg thalach exang oldpeak slope ca thal\n",
       "1   37  1   2  130      283  0   1        98     0     0       -9    -9 -9  \n",
       "2   54  1   3  150       -9  0   0       122     0     0       -9    -9 -9  \n",
       "3   45  0   2  130      237  0   0       170     0     0       -9    -9 -9  \n",
       "⋮   ⋮   ⋮   ⋮  ⋮        ⋮    ⋮   ⋮       ⋮       ⋮     ⋮       ⋮     ⋮  ⋮   \n",
       "166 48  1   4  160      268  0   0       103     1     1       2     -9 -9  \n",
       "167 48  1   4  120      260  0   0       115     0     2       2     -9 -9  \n",
       "168 55  1   4  140      201  0   0       130     1     3       2     -9 -9  \n",
       "    num\n",
       "1   0  \n",
       "2   0  \n",
       "3   0  \n",
       "⋮   ⋮  \n",
       "166 1  \n",
       "167 1  \n",
       "168 1  "
      ]
     },
     "metadata": {},
     "output_type": "display_data"
    }
   ],
   "source": [
    "heart_hungarian <- read_delim(\"https://archive.ics.uci.edu/ml/machine-learning-databases/heart-disease/reprocessed.hungarian.data\",delim=\" \", \n",
    "                              col_names = con_names1)\n",
    "hungarian_mutate <- heart_hungarian|>\n",
    "filter(num==0|num==1)|>\n",
    "mutate(sex=as_factor(sex))|>\n",
    "mutate(cp=as_factor(cp))|>\n",
    "mutate(fbs=as_factor(fbs))|>\n",
    "mutate(restecg=as_factor(restecg))|>\n",
    "mutate(exang=as_factor(exang))|>\n",
    "mutate(slope=as_factor(slope))|>\n",
    "mutate(ca=as_factor(ca))|>\n",
    "mutate(thal=as_factor(thal))|>\n",
    "mutate(num=as_factor(num))\n",
    "\n",
    "\n",
    "hungarian_split <- initial_split(hungarian_mutate, prop = 0.75, strata = num)\n",
    "hungarian_training <- training(hungarian_split)\n",
    "hungarian_testing <- testing(hungarian_split)\n",
    "\n",
    "hungarian_training\n"
   ]
  },
  {
   "cell_type": "markdown",
   "id": "8a4551bd-928a-4598-89e2-1a80a8616280",
   "metadata": {},
   "source": [
    "-------------------------------------------------------------------------------------------------------------------------------"
   ]
  },
  {
   "cell_type": "markdown",
   "id": "5f5ab66b-7457-4767-88ca-56eef3cb8202",
   "metadata": {},
   "source": [
    "### Summary of the five predictors for the four HeartDisease datasets\n",
    "We summarize the five numerical predictors(age, trestbps, chol, thalach, oldpeak) to see if there are obvious differences in two different version(Fist one for the whole dataset and Second one for diagnosed dataset) for that four datasets."
   ]
  },
  {
   "cell_type": "code",
   "execution_count": 192,
   "id": "1c1de670-f01e-4388-b5bb-79cd38ae7cd1",
   "metadata": {},
   "outputs": [],
   "source": [
    "cleaveland_5predictors_all_summary<-summarize(cleaveland_training,\n",
    "                                        age_max=max(age),\n",
    "                                        age_min=min(age),\n",
    "                                        age_mean=mean(age),\n",
    "                                        trestbps_max=max(trestbps),\n",
    "                                        trestbps_min=min(trestbps),\n",
    "                                        trestbps_mean=mean(trestbps),\n",
    "                                        chol_max=max(chol),\n",
    "                                        chol_min=min(chol),\n",
    "                                        chol_mean=mean(chol),\n",
    "                                        thalach_max=max(thalach),\n",
    "                                        thalach_min=min(thalach),\n",
    "                                        thalach_mean=mean(thalach),\n",
    "                                        oldpeak_max=max(oldpeak),\n",
    "                                        oldpeak_min=min(oldpeak),\n",
    "                                        oldpeak_mean=mean(oldpeak))\n",
    "\n",
    "cleaveland_5predictors_diagnosed_summary<-summarize(cleaveland_training|>filter(num==1),\n",
    "                                        age_max_diagnosed=max(age),\n",
    "                                        age_min_diagnosed=min(age),\n",
    "                                        age_mean_diagnosed=mean(age),\n",
    "                                        trestbps_max_diagnosed=max(trestbps),\n",
    "                                        trestbps_min_diagnosed=min(trestbps),\n",
    "                                        trestbps_mean_diagnosed=mean(trestbps),\n",
    "                                        chol_max_diagnosed=max(chol),\n",
    "                                        chol_min_diagnosed=min(chol),\n",
    "                                        chol_mean_diagnosed=mean(chol),\n",
    "                                        thalach_max_diagnosed=max(thalach),\n",
    "                                        thalach_min_diagnosed=min(thalach),\n",
    "                                        thalach_mean_diagnosed=mean(thalach),\n",
    "                                        oldpeak_max_diagnosed=max(oldpeak),\n",
    "                                        oldpeak_min_diagnosed=min(oldpeak),\n",
    "                                        oldpeak_mean_diagnosed=mean(oldpeak))"
   ]
  },
  {
   "cell_type": "code",
   "execution_count": 193,
   "id": "ca362420-1db8-49f1-8339-5511630b83f1",
   "metadata": {},
   "outputs": [
    {
     "data": {
      "text/html": [
       "<table class=\"dataframe\">\n",
       "<caption>A tibble: 1 × 15</caption>\n",
       "<thead>\n",
       "\t<tr><th scope=col>age_max</th><th scope=col>age_min</th><th scope=col>age_mean</th><th scope=col>trestbps_max</th><th scope=col>trestbps_min</th><th scope=col>trestbps_mean</th><th scope=col>chol_max</th><th scope=col>chol_min</th><th scope=col>chol_mean</th><th scope=col>thalach_max</th><th scope=col>thalach_min</th><th scope=col>thalach_mean</th><th scope=col>oldpeak_max</th><th scope=col>oldpeak_min</th><th scope=col>oldpeak_mean</th></tr>\n",
       "\t<tr><th scope=col>&lt;dbl&gt;</th><th scope=col>&lt;dbl&gt;</th><th scope=col>&lt;dbl&gt;</th><th scope=col>&lt;dbl&gt;</th><th scope=col>&lt;dbl&gt;</th><th scope=col>&lt;dbl&gt;</th><th scope=col>&lt;dbl&gt;</th><th scope=col>&lt;dbl&gt;</th><th scope=col>&lt;dbl&gt;</th><th scope=col>&lt;dbl&gt;</th><th scope=col>&lt;dbl&gt;</th><th scope=col>&lt;dbl&gt;</th><th scope=col>&lt;dbl&gt;</th><th scope=col>&lt;dbl&gt;</th><th scope=col>&lt;dbl&gt;</th></tr>\n",
       "</thead>\n",
       "<tbody>\n",
       "\t<tr><td>76</td><td>29</td><td>52.55488</td><td>192</td><td>94</td><td>130.372</td><td>417</td><td>157</td><td>246</td><td>202</td><td>88</td><td>156.7927</td><td>4.2</td><td>0</td><td>0.6743902</td></tr>\n",
       "</tbody>\n",
       "</table>\n"
      ],
      "text/latex": [
       "A tibble: 1 × 15\n",
       "\\begin{tabular}{lllllllllllllll}\n",
       " age\\_max & age\\_min & age\\_mean & trestbps\\_max & trestbps\\_min & trestbps\\_mean & chol\\_max & chol\\_min & chol\\_mean & thalach\\_max & thalach\\_min & thalach\\_mean & oldpeak\\_max & oldpeak\\_min & oldpeak\\_mean\\\\\n",
       " <dbl> & <dbl> & <dbl> & <dbl> & <dbl> & <dbl> & <dbl> & <dbl> & <dbl> & <dbl> & <dbl> & <dbl> & <dbl> & <dbl> & <dbl>\\\\\n",
       "\\hline\n",
       "\t 76 & 29 & 52.55488 & 192 & 94 & 130.372 & 417 & 157 & 246 & 202 & 88 & 156.7927 & 4.2 & 0 & 0.6743902\\\\\n",
       "\\end{tabular}\n"
      ],
      "text/markdown": [
       "\n",
       "A tibble: 1 × 15\n",
       "\n",
       "| age_max &lt;dbl&gt; | age_min &lt;dbl&gt; | age_mean &lt;dbl&gt; | trestbps_max &lt;dbl&gt; | trestbps_min &lt;dbl&gt; | trestbps_mean &lt;dbl&gt; | chol_max &lt;dbl&gt; | chol_min &lt;dbl&gt; | chol_mean &lt;dbl&gt; | thalach_max &lt;dbl&gt; | thalach_min &lt;dbl&gt; | thalach_mean &lt;dbl&gt; | oldpeak_max &lt;dbl&gt; | oldpeak_min &lt;dbl&gt; | oldpeak_mean &lt;dbl&gt; |\n",
       "|---|---|---|---|---|---|---|---|---|---|---|---|---|---|---|\n",
       "| 76 | 29 | 52.55488 | 192 | 94 | 130.372 | 417 | 157 | 246 | 202 | 88 | 156.7927 | 4.2 | 0 | 0.6743902 |\n",
       "\n"
      ],
      "text/plain": [
       "  age_max age_min age_mean trestbps_max trestbps_min trestbps_mean chol_max\n",
       "1 76      29      52.55488 192          94           130.372       417     \n",
       "  chol_min chol_mean thalach_max thalach_min thalach_mean oldpeak_max\n",
       "1 157      246       202         88          156.7927     4.2        \n",
       "  oldpeak_min oldpeak_mean\n",
       "1 0           0.6743902   "
      ]
     },
     "metadata": {},
     "output_type": "display_data"
    }
   ],
   "source": [
    "cleaveland_5predictors_all_summary"
   ]
  },
  {
   "cell_type": "code",
   "execution_count": 194,
   "id": "763786a2-9823-41b6-80b8-6feabc1eb636",
   "metadata": {},
   "outputs": [
    {
     "data": {
      "text/html": [
       "<table class=\"dataframe\">\n",
       "<caption>A tibble: 1 × 15</caption>\n",
       "<thead>\n",
       "\t<tr><th scope=col>age_max_diagnosed</th><th scope=col>age_min_diagnosed</th><th scope=col>age_mean_diagnosed</th><th scope=col>trestbps_max_diagnosed</th><th scope=col>trestbps_min_diagnosed</th><th scope=col>trestbps_mean_diagnosed</th><th scope=col>chol_max_diagnosed</th><th scope=col>chol_min_diagnosed</th><th scope=col>chol_mean_diagnosed</th><th scope=col>thalach_max_diagnosed</th><th scope=col>thalach_min_diagnosed</th><th scope=col>thalach_mean_diagnosed</th><th scope=col>oldpeak_max_diagnosed</th><th scope=col>oldpeak_min_diagnosed</th><th scope=col>oldpeak_mean_diagnosed</th></tr>\n",
       "\t<tr><th scope=col>&lt;dbl&gt;</th><th scope=col>&lt;dbl&gt;</th><th scope=col>&lt;dbl&gt;</th><th scope=col>&lt;dbl&gt;</th><th scope=col>&lt;dbl&gt;</th><th scope=col>&lt;dbl&gt;</th><th scope=col>&lt;dbl&gt;</th><th scope=col>&lt;dbl&gt;</th><th scope=col>&lt;dbl&gt;</th><th scope=col>&lt;dbl&gt;</th><th scope=col>&lt;dbl&gt;</th><th scope=col>&lt;dbl&gt;</th><th scope=col>&lt;dbl&gt;</th><th scope=col>&lt;dbl&gt;</th><th scope=col>&lt;dbl&gt;</th></tr>\n",
       "</thead>\n",
       "<tbody>\n",
       "\t<tr><td>70</td><td>35</td><td>55.39024</td><td>192</td><td>108</td><td>134.1951</td><td>335</td><td>172</td><td>251.2195</td><td>195</td><td>88</td><td>146.6585</td><td>3.6</td><td>0</td><td>0.9121951</td></tr>\n",
       "</tbody>\n",
       "</table>\n"
      ],
      "text/latex": [
       "A tibble: 1 × 15\n",
       "\\begin{tabular}{lllllllllllllll}\n",
       " age\\_max\\_diagnosed & age\\_min\\_diagnosed & age\\_mean\\_diagnosed & trestbps\\_max\\_diagnosed & trestbps\\_min\\_diagnosed & trestbps\\_mean\\_diagnosed & chol\\_max\\_diagnosed & chol\\_min\\_diagnosed & chol\\_mean\\_diagnosed & thalach\\_max\\_diagnosed & thalach\\_min\\_diagnosed & thalach\\_mean\\_diagnosed & oldpeak\\_max\\_diagnosed & oldpeak\\_min\\_diagnosed & oldpeak\\_mean\\_diagnosed\\\\\n",
       " <dbl> & <dbl> & <dbl> & <dbl> & <dbl> & <dbl> & <dbl> & <dbl> & <dbl> & <dbl> & <dbl> & <dbl> & <dbl> & <dbl> & <dbl>\\\\\n",
       "\\hline\n",
       "\t 70 & 35 & 55.39024 & 192 & 108 & 134.1951 & 335 & 172 & 251.2195 & 195 & 88 & 146.6585 & 3.6 & 0 & 0.9121951\\\\\n",
       "\\end{tabular}\n"
      ],
      "text/markdown": [
       "\n",
       "A tibble: 1 × 15\n",
       "\n",
       "| age_max_diagnosed &lt;dbl&gt; | age_min_diagnosed &lt;dbl&gt; | age_mean_diagnosed &lt;dbl&gt; | trestbps_max_diagnosed &lt;dbl&gt; | trestbps_min_diagnosed &lt;dbl&gt; | trestbps_mean_diagnosed &lt;dbl&gt; | chol_max_diagnosed &lt;dbl&gt; | chol_min_diagnosed &lt;dbl&gt; | chol_mean_diagnosed &lt;dbl&gt; | thalach_max_diagnosed &lt;dbl&gt; | thalach_min_diagnosed &lt;dbl&gt; | thalach_mean_diagnosed &lt;dbl&gt; | oldpeak_max_diagnosed &lt;dbl&gt; | oldpeak_min_diagnosed &lt;dbl&gt; | oldpeak_mean_diagnosed &lt;dbl&gt; |\n",
       "|---|---|---|---|---|---|---|---|---|---|---|---|---|---|---|\n",
       "| 70 | 35 | 55.39024 | 192 | 108 | 134.1951 | 335 | 172 | 251.2195 | 195 | 88 | 146.6585 | 3.6 | 0 | 0.9121951 |\n",
       "\n"
      ],
      "text/plain": [
       "  age_max_diagnosed age_min_diagnosed age_mean_diagnosed trestbps_max_diagnosed\n",
       "1 70                35                55.39024           192                   \n",
       "  trestbps_min_diagnosed trestbps_mean_diagnosed chol_max_diagnosed\n",
       "1 108                    134.1951                335               \n",
       "  chol_min_diagnosed chol_mean_diagnosed thalach_max_diagnosed\n",
       "1 172                251.2195            195                  \n",
       "  thalach_min_diagnosed thalach_mean_diagnosed oldpeak_max_diagnosed\n",
       "1 88                    146.6585               3.6                  \n",
       "  oldpeak_min_diagnosed oldpeak_mean_diagnosed\n",
       "1 0                     0.9121951             "
      ]
     },
     "metadata": {},
     "output_type": "display_data"
    }
   ],
   "source": [
    "cleaveland_5predictors_diagnosed_summary"
   ]
  },
  {
   "cell_type": "code",
   "execution_count": 189,
   "id": "f9f34eed-451c-4f6c-8d93-b0bfcd620e8d",
   "metadata": {},
   "outputs": [
    {
     "name": "stderr",
     "output_type": "stream",
     "text": [
      "Warning message in mean.default(trestbps):\n",
      "“argument is not numeric or logical: returning NA”\n",
      "Warning message in mean.default(thalach):\n",
      "“argument is not numeric or logical: returning NA”\n",
      "Warning message in mean.default(oldpeak):\n",
      "“argument is not numeric or logical: returning NA”\n",
      "Warning message in mean.default(trestbps):\n",
      "“argument is not numeric or logical: returning NA”\n",
      "Warning message in mean.default(thalach):\n",
      "“argument is not numeric or logical: returning NA”\n",
      "Warning message in mean.default(oldpeak):\n",
      "“argument is not numeric or logical: returning NA”\n"
     ]
    }
   ],
   "source": [
    "switzerland_5predictors_all_summary<-summarize(switzerland_training,\n",
    "                                        age_max=max(age),\n",
    "                                        age_min=min(age),\n",
    "                                        age_mean=mean(age),\n",
    "                                        trestbps_max=max(trestbps),\n",
    "                                        trestbps_min=min(trestbps),\n",
    "                                        trestbps_mean=mean(trestbps),\n",
    "                                        chol_max=max(chol),\n",
    "                                        chol_min=min(chol),\n",
    "                                        chol_mean=mean(chol),\n",
    "                                        thalach_max=max(thalach),\n",
    "                                        thalach_min=min(thalach),\n",
    "                                        thalach_mean=mean(thalach),\n",
    "                                        oldpeak_max=max(oldpeak),\n",
    "                                        oldpeak_min=min(oldpeak),\n",
    "                                        oldpeak_mean=mean(oldpeak))\n",
    "\n",
    "switzerland_5predictors_diagnosed_summary<-summarize(switzerland_training|>filter(num==1),\n",
    "                                        age_max_diagnosed=max(age),\n",
    "                                        age_min_diagnosed=min(age),\n",
    "                                        age_mean_diagnosed=mean(age),\n",
    "                                        trestbps_max_diagnosed=max(trestbps),\n",
    "                                        trestbps_min_diagnosed=min(trestbps),\n",
    "                                        trestbps_mean_diagnosed=mean(trestbps),\n",
    "                                        chol_max_diagnosed=max(chol),\n",
    "                                        chol_min_diagnosed=min(chol),\n",
    "                                        chol_mean_diagnosed=mean(chol),\n",
    "                                        thalach_max_diagnosed=max(thalach),\n",
    "                                        thalach_min_diagnosed=min(thalach),\n",
    "                                        thalach_mean_diagnosed=mean(thalach),\n",
    "                                        oldpeak_max_diagnosed=max(oldpeak),\n",
    "                                        oldpeak_min_diagnosed=min(oldpeak),\n",
    "                                        oldpeak_mean_diagnosed=mean(oldpeak))"
   ]
  },
  {
   "cell_type": "code",
   "execution_count": 190,
   "id": "e1e01e9d-ef5d-49bf-b384-dde817cfc756",
   "metadata": {},
   "outputs": [
    {
     "data": {
      "text/html": [
       "<table class=\"dataframe\">\n",
       "<caption>A tibble: 1 × 15</caption>\n",
       "<thead>\n",
       "\t<tr><th scope=col>age_max</th><th scope=col>age_min</th><th scope=col>age_mean</th><th scope=col>trestbps_max</th><th scope=col>trestbps_min</th><th scope=col>trestbps_mean</th><th scope=col>chol_max</th><th scope=col>chol_min</th><th scope=col>chol_mean</th><th scope=col>thalach_max</th><th scope=col>thalach_min</th><th scope=col>thalach_mean</th><th scope=col>oldpeak_max</th><th scope=col>oldpeak_min</th><th scope=col>oldpeak_mean</th></tr>\n",
       "\t<tr><th scope=col>&lt;dbl&gt;</th><th scope=col>&lt;dbl&gt;</th><th scope=col>&lt;dbl&gt;</th><th scope=col>&lt;chr&gt;</th><th scope=col>&lt;chr&gt;</th><th scope=col>&lt;dbl&gt;</th><th scope=col>&lt;dbl&gt;</th><th scope=col>&lt;dbl&gt;</th><th scope=col>&lt;dbl&gt;</th><th scope=col>&lt;chr&gt;</th><th scope=col>&lt;chr&gt;</th><th scope=col>&lt;dbl&gt;</th><th scope=col>&lt;chr&gt;</th><th scope=col>&lt;chr&gt;</th><th scope=col>&lt;dbl&gt;</th></tr>\n",
       "</thead>\n",
       "<tbody>\n",
       "\t<tr><td>74</td><td>32</td><td>55.83333</td><td>95</td><td>100</td><td>NA</td><td>0</td><td>0</td><td>0</td><td>98</td><td>105</td><td>NA</td><td>2.6</td><td>-.1</td><td>NA</td></tr>\n",
       "</tbody>\n",
       "</table>\n"
      ],
      "text/latex": [
       "A tibble: 1 × 15\n",
       "\\begin{tabular}{lllllllllllllll}\n",
       " age\\_max & age\\_min & age\\_mean & trestbps\\_max & trestbps\\_min & trestbps\\_mean & chol\\_max & chol\\_min & chol\\_mean & thalach\\_max & thalach\\_min & thalach\\_mean & oldpeak\\_max & oldpeak\\_min & oldpeak\\_mean\\\\\n",
       " <dbl> & <dbl> & <dbl> & <chr> & <chr> & <dbl> & <dbl> & <dbl> & <dbl> & <chr> & <chr> & <dbl> & <chr> & <chr> & <dbl>\\\\\n",
       "\\hline\n",
       "\t 74 & 32 & 55.83333 & 95 & 100 & NA & 0 & 0 & 0 & 98 & 105 & NA & 2.6 & -.1 & NA\\\\\n",
       "\\end{tabular}\n"
      ],
      "text/markdown": [
       "\n",
       "A tibble: 1 × 15\n",
       "\n",
       "| age_max &lt;dbl&gt; | age_min &lt;dbl&gt; | age_mean &lt;dbl&gt; | trestbps_max &lt;chr&gt; | trestbps_min &lt;chr&gt; | trestbps_mean &lt;dbl&gt; | chol_max &lt;dbl&gt; | chol_min &lt;dbl&gt; | chol_mean &lt;dbl&gt; | thalach_max &lt;chr&gt; | thalach_min &lt;chr&gt; | thalach_mean &lt;dbl&gt; | oldpeak_max &lt;chr&gt; | oldpeak_min &lt;chr&gt; | oldpeak_mean &lt;dbl&gt; |\n",
       "|---|---|---|---|---|---|---|---|---|---|---|---|---|---|---|\n",
       "| 74 | 32 | 55.83333 | 95 | 100 | NA | 0 | 0 | 0 | 98 | 105 | NA | 2.6 | -.1 | NA |\n",
       "\n"
      ],
      "text/plain": [
       "  age_max age_min age_mean trestbps_max trestbps_min trestbps_mean chol_max\n",
       "1 74      32      55.83333 95           100          NA            0       \n",
       "  chol_min chol_mean thalach_max thalach_min thalach_mean oldpeak_max\n",
       "1 0        0         98          105         NA           2.6        \n",
       "  oldpeak_min oldpeak_mean\n",
       "1 -.1         NA          "
      ]
     },
     "metadata": {},
     "output_type": "display_data"
    }
   ],
   "source": [
    "switzerland_5predictors_all_summary"
   ]
  },
  {
   "cell_type": "code",
   "execution_count": 191,
   "id": "ed27b961-8d2b-4b66-aca3-c3e96cc1e859",
   "metadata": {},
   "outputs": [
    {
     "data": {
      "text/html": [
       "<table class=\"dataframe\">\n",
       "<caption>A tibble: 1 × 15</caption>\n",
       "<thead>\n",
       "\t<tr><th scope=col>age_max_diagnosed</th><th scope=col>age_min_diagnosed</th><th scope=col>age_mean_diagnosed</th><th scope=col>trestbps_max_diagnosed</th><th scope=col>trestbps_min_diagnosed</th><th scope=col>trestbps_mean_diagnosed</th><th scope=col>chol_max_diagnosed</th><th scope=col>chol_min_diagnosed</th><th scope=col>chol_mean_diagnosed</th><th scope=col>thalach_max_diagnosed</th><th scope=col>thalach_min_diagnosed</th><th scope=col>thalach_mean_diagnosed</th><th scope=col>oldpeak_max_diagnosed</th><th scope=col>oldpeak_min_diagnosed</th><th scope=col>oldpeak_mean_diagnosed</th></tr>\n",
       "\t<tr><th scope=col>&lt;dbl&gt;</th><th scope=col>&lt;dbl&gt;</th><th scope=col>&lt;dbl&gt;</th><th scope=col>&lt;chr&gt;</th><th scope=col>&lt;chr&gt;</th><th scope=col>&lt;dbl&gt;</th><th scope=col>&lt;dbl&gt;</th><th scope=col>&lt;dbl&gt;</th><th scope=col>&lt;dbl&gt;</th><th scope=col>&lt;chr&gt;</th><th scope=col>&lt;chr&gt;</th><th scope=col>&lt;dbl&gt;</th><th scope=col>&lt;chr&gt;</th><th scope=col>&lt;chr&gt;</th><th scope=col>&lt;dbl&gt;</th></tr>\n",
       "</thead>\n",
       "<tbody>\n",
       "\t<tr><td>74</td><td>32</td><td>55.52778</td><td>95</td><td>100</td><td>NA</td><td>0</td><td>0</td><td>0</td><td>98</td><td>105</td><td>NA</td><td>2.6</td><td>-.5</td><td>NA</td></tr>\n",
       "</tbody>\n",
       "</table>\n"
      ],
      "text/latex": [
       "A tibble: 1 × 15\n",
       "\\begin{tabular}{lllllllllllllll}\n",
       " age\\_max\\_diagnosed & age\\_min\\_diagnosed & age\\_mean\\_diagnosed & trestbps\\_max\\_diagnosed & trestbps\\_min\\_diagnosed & trestbps\\_mean\\_diagnosed & chol\\_max\\_diagnosed & chol\\_min\\_diagnosed & chol\\_mean\\_diagnosed & thalach\\_max\\_diagnosed & thalach\\_min\\_diagnosed & thalach\\_mean\\_diagnosed & oldpeak\\_max\\_diagnosed & oldpeak\\_min\\_diagnosed & oldpeak\\_mean\\_diagnosed\\\\\n",
       " <dbl> & <dbl> & <dbl> & <chr> & <chr> & <dbl> & <dbl> & <dbl> & <dbl> & <chr> & <chr> & <dbl> & <chr> & <chr> & <dbl>\\\\\n",
       "\\hline\n",
       "\t 74 & 32 & 55.52778 & 95 & 100 & NA & 0 & 0 & 0 & 98 & 105 & NA & 2.6 & -.5 & NA\\\\\n",
       "\\end{tabular}\n"
      ],
      "text/markdown": [
       "\n",
       "A tibble: 1 × 15\n",
       "\n",
       "| age_max_diagnosed &lt;dbl&gt; | age_min_diagnosed &lt;dbl&gt; | age_mean_diagnosed &lt;dbl&gt; | trestbps_max_diagnosed &lt;chr&gt; | trestbps_min_diagnosed &lt;chr&gt; | trestbps_mean_diagnosed &lt;dbl&gt; | chol_max_diagnosed &lt;dbl&gt; | chol_min_diagnosed &lt;dbl&gt; | chol_mean_diagnosed &lt;dbl&gt; | thalach_max_diagnosed &lt;chr&gt; | thalach_min_diagnosed &lt;chr&gt; | thalach_mean_diagnosed &lt;dbl&gt; | oldpeak_max_diagnosed &lt;chr&gt; | oldpeak_min_diagnosed &lt;chr&gt; | oldpeak_mean_diagnosed &lt;dbl&gt; |\n",
       "|---|---|---|---|---|---|---|---|---|---|---|---|---|---|---|\n",
       "| 74 | 32 | 55.52778 | 95 | 100 | NA | 0 | 0 | 0 | 98 | 105 | NA | 2.6 | -.5 | NA |\n",
       "\n"
      ],
      "text/plain": [
       "  age_max_diagnosed age_min_diagnosed age_mean_diagnosed trestbps_max_diagnosed\n",
       "1 74                32                55.52778           95                    \n",
       "  trestbps_min_diagnosed trestbps_mean_diagnosed chol_max_diagnosed\n",
       "1 100                    NA                      0                 \n",
       "  chol_min_diagnosed chol_mean_diagnosed thalach_max_diagnosed\n",
       "1 0                  0                   98                   \n",
       "  thalach_min_diagnosed thalach_mean_diagnosed oldpeak_max_diagnosed\n",
       "1 105                   NA                     2.6                  \n",
       "  oldpeak_min_diagnosed oldpeak_mean_diagnosed\n",
       "1 -.5                   NA                    "
      ]
     },
     "metadata": {},
     "output_type": "display_data"
    }
   ],
   "source": [
    "switzerland_training_5predictors_diagnosed_summary"
   ]
  },
  {
   "cell_type": "code",
   "execution_count": 206,
   "id": "696d7d98-0990-42b7-b467-49b108ae7247",
   "metadata": {},
   "outputs": [
    {
     "ename": "ERROR",
     "evalue": "Error in `?`(\"va_summary<-filter(va_training, age!=\", \"|trestbps!=\"): no documentation of type ‘va_summary<-filter(va_training, age!=’ and topic ‘|trestbps!=’ (or error in processing help)\n",
     "output_type": "error",
     "traceback": [
      "Error in `?`(\"va_summary<-filter(va_training, age!=\", \"|trestbps!=\"): no documentation of type ‘va_summary<-filter(va_training, age!=’ and topic ‘|trestbps!=’ (or error in processing help)\nTraceback:\n",
      "1. `?`(`?`(`?`(`?`(`?`(\"va_summary<-filter(va_training, age!=\", \n .     \"|trestbps!=\"), \"|chol!=\"), \"|thalach!=\"), \"|oldpeak_min!=\"), \n .     \")\")",
      "2. `?`(`?`(`?`(`?`(\"va_summary<-filter(va_training, age!=\", \"|trestbps!=\"), \n .     \"|chol!=\"), \"|thalach!=\"), \"|oldpeak_min!=\")",
      "3. `?`(`?`(`?`(\"va_summary<-filter(va_training, age!=\", \"|trestbps!=\"), \n .     \"|chol!=\"), \"|thalach!=\")",
      "4. `?`(`?`(\"va_summary<-filter(va_training, age!=\", \"|trestbps!=\"), \n .     \"|chol!=\")",
      "5. `?`(\"va_summary<-filter(va_training, age!=\", \"|trestbps!=\")",
      "6. stop(gettextf(\"no documentation of type %s and topic %s (or error in processing help)\", \n .     sQuote(type), sQuote(topicExpr)), domain = NA)"
     ]
    }
   ],
   "source": [
    "\"va_summary<-filter(va_training, age!=\"?\"|trestbps!=\"?\"|chol!=\"?\"|thalach!=\"?\"|oldpeak_min!=\"?\")\""
   ]
  },
  {
   "cell_type": "code",
   "execution_count": 205,
   "id": "964a8f0f-0927-4985-bb00-fb46e35e0734",
   "metadata": {},
   "outputs": [
    {
     "name": "stderr",
     "output_type": "stream",
     "text": [
      "Warning message in mean.default(trestbps):\n",
      "“argument is not numeric or logical: returning NA”\n",
      "Warning message in mean.default(chol):\n",
      "“argument is not numeric or logical: returning NA”\n",
      "Warning message in mean.default(thalach):\n",
      "“argument is not numeric or logical: returning NA”\n",
      "Warning message in mean.default(oldpeak):\n",
      "“argument is not numeric or logical: returning NA”\n",
      "Warning message in mean.default(trestbps):\n",
      "“argument is not numeric or logical: returning NA”\n",
      "Warning message in mean.default(chol):\n",
      "“argument is not numeric or logical: returning NA”\n",
      "Warning message in mean.default(thalach):\n",
      "“argument is not numeric or logical: returning NA”\n",
      "Warning message in mean.default(oldpeak):\n",
      "“argument is not numeric or logical: returning NA”\n"
     ]
    }
   ],
   "source": [
    "va_5predictors_all_summary<-summarize(va_training|> filter(trestbps!=\"?\"),\n",
    "                                        age_max=max(age),\n",
    "                                        age_min=min(age),\n",
    "                                        age_mean=mean(age),\n",
    "                                        trestbps_max=max(trestbps),\n",
    "                                        trestbps_min=min(trestbps),\n",
    "                                        trestbps_mean=mean(trestbps),\n",
    "                                        chol_max=max(chol),\n",
    "                                        chol_min=min(chol),\n",
    "                                        chol_mean=mean(chol),\n",
    "                                        thalach_max=max(thalach),\n",
    "                                        thalach_min=min(thalach),\n",
    "                                        thalach_mean=mean(thalach),\n",
    "                                        oldpeak_max=max(oldpeak),\n",
    "                                        oldpeak_min=min(oldpeak),\n",
    "                                        oldpeak_mean=mean(oldpeak))\n",
    "\n",
    "va_5predictors_diagnosed_summary<-summarize(va_training|>filter(num==1),\n",
    "                                        age_max_diagnosed=max(age),\n",
    "                                        age_min_diagnosed=min(age),\n",
    "                                        age_mean_diagnosed=mean(age),\n",
    "                                        trestbps_max_diagnosed=max(trestbps),\n",
    "                                        trestbps_min_diagnosed=min(trestbps),\n",
    "                                        trestbps_mean_diagnosed=mean(trestbps),\n",
    "                                        chol_max_diagnosed=max(chol),\n",
    "                                        chol_min_diagnosed=min(chol),\n",
    "                                        chol_mean_diagnosed=mean(chol),\n",
    "                                        thalach_max_diagnosed=max(thalach),\n",
    "                                        thalach_min_diagnosed=min(thalach),\n",
    "                                        thalach_mean_diagnosed=mean(thalach),\n",
    "                                        oldpeak_max_diagnosed=max(oldpeak),\n",
    "                                        oldpeak_min_diagnosed=min(oldpeak),\n",
    "                                        oldpeak_mean_diagnosed=mean(oldpeak))"
   ]
  },
  {
   "cell_type": "code",
   "execution_count": 204,
   "id": "ac3268cc-8842-4ccc-b19e-a48e9367169b",
   "metadata": {},
   "outputs": [
    {
     "data": {
      "text/html": [
       "<table class=\"dataframe\">\n",
       "<caption>A tibble: 1 × 15</caption>\n",
       "<thead>\n",
       "\t<tr><th scope=col>age_max</th><th scope=col>age_min</th><th scope=col>age_mean</th><th scope=col>trestbps_max</th><th scope=col>trestbps_min</th><th scope=col>trestbps_mean</th><th scope=col>chol_max</th><th scope=col>chol_min</th><th scope=col>chol_mean</th><th scope=col>thalach_max</th><th scope=col>thalach_min</th><th scope=col>thalach_mean</th><th scope=col>oldpeak_max</th><th scope=col>oldpeak_min</th><th scope=col>oldpeak_mean</th></tr>\n",
       "\t<tr><th scope=col>&lt;dbl&gt;</th><th scope=col>&lt;dbl&gt;</th><th scope=col>&lt;dbl&gt;</th><th scope=col>&lt;chr&gt;</th><th scope=col>&lt;chr&gt;</th><th scope=col>&lt;dbl&gt;</th><th scope=col>&lt;chr&gt;</th><th scope=col>&lt;chr&gt;</th><th scope=col>&lt;dbl&gt;</th><th scope=col>&lt;chr&gt;</th><th scope=col>&lt;chr&gt;</th><th scope=col>&lt;dbl&gt;</th><th scope=col>&lt;chr&gt;</th><th scope=col>&lt;chr&gt;</th><th scope=col>&lt;dbl&gt;</th></tr>\n",
       "</thead>\n",
       "<tbody>\n",
       "\t<tr><td>75</td><td>37</td><td>56.38182</td><td>96</td><td>100</td><td>NA</td><td>458</td><td>0</td><td>NA</td><td>99</td><td>100</td><td>NA</td><td>3</td><td>?</td><td>NA</td></tr>\n",
       "</tbody>\n",
       "</table>\n"
      ],
      "text/latex": [
       "A tibble: 1 × 15\n",
       "\\begin{tabular}{lllllllllllllll}\n",
       " age\\_max & age\\_min & age\\_mean & trestbps\\_max & trestbps\\_min & trestbps\\_mean & chol\\_max & chol\\_min & chol\\_mean & thalach\\_max & thalach\\_min & thalach\\_mean & oldpeak\\_max & oldpeak\\_min & oldpeak\\_mean\\\\\n",
       " <dbl> & <dbl> & <dbl> & <chr> & <chr> & <dbl> & <chr> & <chr> & <dbl> & <chr> & <chr> & <dbl> & <chr> & <chr> & <dbl>\\\\\n",
       "\\hline\n",
       "\t 75 & 37 & 56.38182 & 96 & 100 & NA & 458 & 0 & NA & 99 & 100 & NA & 3 & ? & NA\\\\\n",
       "\\end{tabular}\n"
      ],
      "text/markdown": [
       "\n",
       "A tibble: 1 × 15\n",
       "\n",
       "| age_max &lt;dbl&gt; | age_min &lt;dbl&gt; | age_mean &lt;dbl&gt; | trestbps_max &lt;chr&gt; | trestbps_min &lt;chr&gt; | trestbps_mean &lt;dbl&gt; | chol_max &lt;chr&gt; | chol_min &lt;chr&gt; | chol_mean &lt;dbl&gt; | thalach_max &lt;chr&gt; | thalach_min &lt;chr&gt; | thalach_mean &lt;dbl&gt; | oldpeak_max &lt;chr&gt; | oldpeak_min &lt;chr&gt; | oldpeak_mean &lt;dbl&gt; |\n",
       "|---|---|---|---|---|---|---|---|---|---|---|---|---|---|---|\n",
       "| 75 | 37 | 56.38182 | 96 | 100 | NA | 458 | 0 | NA | 99 | 100 | NA | 3 | ? | NA |\n",
       "\n"
      ],
      "text/plain": [
       "  age_max age_min age_mean trestbps_max trestbps_min trestbps_mean chol_max\n",
       "1 75      37      56.38182 96           100          NA            458     \n",
       "  chol_min chol_mean thalach_max thalach_min thalach_mean oldpeak_max\n",
       "1 0        NA        99          100         NA           3          \n",
       "  oldpeak_min oldpeak_mean\n",
       "1 ?           NA          "
      ]
     },
     "metadata": {},
     "output_type": "display_data"
    }
   ],
   "source": [
    "va_5predictors_all_summary"
   ]
  },
  {
   "cell_type": "code",
   "execution_count": 202,
   "id": "0a76864a-4913-44f8-b895-ab989665c025",
   "metadata": {},
   "outputs": [
    {
     "data": {
      "text/html": [
       "<table class=\"dataframe\">\n",
       "<caption>A tibble: 1 × 15</caption>\n",
       "<thead>\n",
       "\t<tr><th scope=col>age_max_diagnosed</th><th scope=col>age_min_diagnosed</th><th scope=col>age_mean_diagnosed</th><th scope=col>trestbps_max_diagnosed</th><th scope=col>trestbps_min_diagnosed</th><th scope=col>trestbps_mean_diagnosed</th><th scope=col>chol_max_diagnosed</th><th scope=col>chol_min_diagnosed</th><th scope=col>chol_mean_diagnosed</th><th scope=col>thalach_max_diagnosed</th><th scope=col>thalach_min_diagnosed</th><th scope=col>thalach_mean_diagnosed</th><th scope=col>oldpeak_max_diagnosed</th><th scope=col>oldpeak_min_diagnosed</th><th scope=col>oldpeak_mean_diagnosed</th></tr>\n",
       "\t<tr><th scope=col>&lt;dbl&gt;</th><th scope=col>&lt;dbl&gt;</th><th scope=col>&lt;dbl&gt;</th><th scope=col>&lt;chr&gt;</th><th scope=col>&lt;chr&gt;</th><th scope=col>&lt;dbl&gt;</th><th scope=col>&lt;chr&gt;</th><th scope=col>&lt;chr&gt;</th><th scope=col>&lt;dbl&gt;</th><th scope=col>&lt;chr&gt;</th><th scope=col>&lt;chr&gt;</th><th scope=col>&lt;dbl&gt;</th><th scope=col>&lt;chr&gt;</th><th scope=col>&lt;chr&gt;</th><th scope=col>&lt;dbl&gt;</th></tr>\n",
       "</thead>\n",
       "<tbody>\n",
       "\t<tr><td>75</td><td>38</td><td>57.09524</td><td>96</td><td>?</td><td>NA</td><td>349</td><td>?</td><td>NA</td><td>98</td><td>?</td><td>NA</td><td>3</td><td>?</td><td>NA</td></tr>\n",
       "</tbody>\n",
       "</table>\n"
      ],
      "text/latex": [
       "A tibble: 1 × 15\n",
       "\\begin{tabular}{lllllllllllllll}\n",
       " age\\_max\\_diagnosed & age\\_min\\_diagnosed & age\\_mean\\_diagnosed & trestbps\\_max\\_diagnosed & trestbps\\_min\\_diagnosed & trestbps\\_mean\\_diagnosed & chol\\_max\\_diagnosed & chol\\_min\\_diagnosed & chol\\_mean\\_diagnosed & thalach\\_max\\_diagnosed & thalach\\_min\\_diagnosed & thalach\\_mean\\_diagnosed & oldpeak\\_max\\_diagnosed & oldpeak\\_min\\_diagnosed & oldpeak\\_mean\\_diagnosed\\\\\n",
       " <dbl> & <dbl> & <dbl> & <chr> & <chr> & <dbl> & <chr> & <chr> & <dbl> & <chr> & <chr> & <dbl> & <chr> & <chr> & <dbl>\\\\\n",
       "\\hline\n",
       "\t 75 & 38 & 57.09524 & 96 & ? & NA & 349 & ? & NA & 98 & ? & NA & 3 & ? & NA\\\\\n",
       "\\end{tabular}\n"
      ],
      "text/markdown": [
       "\n",
       "A tibble: 1 × 15\n",
       "\n",
       "| age_max_diagnosed &lt;dbl&gt; | age_min_diagnosed &lt;dbl&gt; | age_mean_diagnosed &lt;dbl&gt; | trestbps_max_diagnosed &lt;chr&gt; | trestbps_min_diagnosed &lt;chr&gt; | trestbps_mean_diagnosed &lt;dbl&gt; | chol_max_diagnosed &lt;chr&gt; | chol_min_diagnosed &lt;chr&gt; | chol_mean_diagnosed &lt;dbl&gt; | thalach_max_diagnosed &lt;chr&gt; | thalach_min_diagnosed &lt;chr&gt; | thalach_mean_diagnosed &lt;dbl&gt; | oldpeak_max_diagnosed &lt;chr&gt; | oldpeak_min_diagnosed &lt;chr&gt; | oldpeak_mean_diagnosed &lt;dbl&gt; |\n",
       "|---|---|---|---|---|---|---|---|---|---|---|---|---|---|---|\n",
       "| 75 | 38 | 57.09524 | 96 | ? | NA | 349 | ? | NA | 98 | ? | NA | 3 | ? | NA |\n",
       "\n"
      ],
      "text/plain": [
       "  age_max_diagnosed age_min_diagnosed age_mean_diagnosed trestbps_max_diagnosed\n",
       "1 75                38                57.09524           96                    \n",
       "  trestbps_min_diagnosed trestbps_mean_diagnosed chol_max_diagnosed\n",
       "1 ?                      NA                      349               \n",
       "  chol_min_diagnosed chol_mean_diagnosed thalach_max_diagnosed\n",
       "1 ?                  NA                  98                   \n",
       "  thalach_min_diagnosed thalach_mean_diagnosed oldpeak_max_diagnosed\n",
       "1 ?                     NA                     3                    \n",
       "  oldpeak_min_diagnosed oldpeak_mean_diagnosed\n",
       "1 ?                     NA                    "
      ]
     },
     "metadata": {},
     "output_type": "display_data"
    }
   ],
   "source": [
    "va_5predictors_diagnosed_summary"
   ]
  },
  {
   "cell_type": "code",
   "execution_count": 104,
   "id": "9619d593-2b92-479f-8c53-10e331e8f0f0",
   "metadata": {},
   "outputs": [],
   "source": [
    "hungarian_5predictors_all_summary<-summarize(hungarian_training,\n",
    "                                        age_max=max(age),\n",
    "                                        age_min=min(age),\n",
    "                                        age_mean=mean(age),\n",
    "                                        trestbps_max=max(trestbps),\n",
    "                                        trestbps_min=min(trestbps),\n",
    "                                        trestbps_mean=mean(trestbps),\n",
    "                                        chol_max=max(chol),\n",
    "                                        chol_min=min(chol),\n",
    "                                        chol_mean=mean(chol),\n",
    "                                        thalach_max=max(thalach),\n",
    "                                        thalach_min=min(thalach),\n",
    "                                        thalach_mean=mean(thalach),\n",
    "                                        oldpeak_max=max(oldpeak),\n",
    "                                        oldpeak_min=min(oldpeak),\n",
    "                                        oldpeak_mean=mean(oldpeak))\n",
    "\n",
    "hungarian_5predictors_diagnosed_summary<-summarize(hungarian_training|>filter(num==1),\n",
    "                                        age_max_diagnosed=max(age),\n",
    "                                        age_min_diagnosed=min(age),\n",
    "                                        age_mean_diagnosed=mean(age),\n",
    "                                        trestbps_max_diagnosed=max(trestbps),\n",
    "                                        trestbps_min_diagnosed=min(trestbps),\n",
    "                                        trestbps_mean_diagnosed=mean(trestbps),\n",
    "                                        chol_max_diagnosed=max(chol),\n",
    "                                        chol_min_diagnosed=min(chol),\n",
    "                                        chol_mean_diagnosed=mean(chol),\n",
    "                                        thalach_max_diagnosed=max(thalach),\n",
    "                                        thalach_min_diagnosed=min(thalach),\n",
    "                                        thalach_mean_diagnosed=mean(thalach),\n",
    "                                        oldpeak_max_diagnosed=max(oldpeak),\n",
    "                                        oldpeak_min_diagnosed=min(oldpeak),\n",
    "                                        oldpeak_mean_diagnosed=mean(oldpeak))"
   ]
  },
  {
   "cell_type": "code",
   "execution_count": 105,
   "id": "d38acd01-f146-444a-b3de-4e4e5e7e8155",
   "metadata": {},
   "outputs": [
    {
     "data": {
      "text/html": [
       "<table class=\"dataframe\">\n",
       "<caption>A tibble: 1 × 15</caption>\n",
       "<thead>\n",
       "\t<tr><th scope=col>age_max</th><th scope=col>age_min</th><th scope=col>age_mean</th><th scope=col>trestbps_max</th><th scope=col>trestbps_min</th><th scope=col>trestbps_mean</th><th scope=col>chol_max</th><th scope=col>chol_min</th><th scope=col>chol_mean</th><th scope=col>thalach_max</th><th scope=col>thalach_min</th><th scope=col>thalach_mean</th><th scope=col>oldpeak_max</th><th scope=col>oldpeak_min</th><th scope=col>oldpeak_mean</th></tr>\n",
       "\t<tr><th scope=col>&lt;dbl&gt;</th><th scope=col>&lt;dbl&gt;</th><th scope=col>&lt;dbl&gt;</th><th scope=col>&lt;dbl&gt;</th><th scope=col>&lt;dbl&gt;</th><th scope=col>&lt;dbl&gt;</th><th scope=col>&lt;dbl&gt;</th><th scope=col>&lt;dbl&gt;</th><th scope=col>&lt;dbl&gt;</th><th scope=col>&lt;dbl&gt;</th><th scope=col>&lt;dbl&gt;</th><th scope=col>&lt;dbl&gt;</th><th scope=col>&lt;dbl&gt;</th><th scope=col>&lt;dbl&gt;</th><th scope=col>&lt;dbl&gt;</th></tr>\n",
       "</thead>\n",
       "<tbody>\n",
       "\t<tr><td>65</td><td>28</td><td>46.75595</td><td>190</td><td>-9</td><td>129.4702</td><td>412</td><td>-9</td><td>224.7083</td><td>190</td><td>-9</td><td>142.6667</td><td>3</td><td>0</td><td>0.3363095</td></tr>\n",
       "</tbody>\n",
       "</table>\n"
      ],
      "text/latex": [
       "A tibble: 1 × 15\n",
       "\\begin{tabular}{lllllllllllllll}\n",
       " age\\_max & age\\_min & age\\_mean & trestbps\\_max & trestbps\\_min & trestbps\\_mean & chol\\_max & chol\\_min & chol\\_mean & thalach\\_max & thalach\\_min & thalach\\_mean & oldpeak\\_max & oldpeak\\_min & oldpeak\\_mean\\\\\n",
       " <dbl> & <dbl> & <dbl> & <dbl> & <dbl> & <dbl> & <dbl> & <dbl> & <dbl> & <dbl> & <dbl> & <dbl> & <dbl> & <dbl> & <dbl>\\\\\n",
       "\\hline\n",
       "\t 65 & 28 & 46.75595 & 190 & -9 & 129.4702 & 412 & -9 & 224.7083 & 190 & -9 & 142.6667 & 3 & 0 & 0.3363095\\\\\n",
       "\\end{tabular}\n"
      ],
      "text/markdown": [
       "\n",
       "A tibble: 1 × 15\n",
       "\n",
       "| age_max &lt;dbl&gt; | age_min &lt;dbl&gt; | age_mean &lt;dbl&gt; | trestbps_max &lt;dbl&gt; | trestbps_min &lt;dbl&gt; | trestbps_mean &lt;dbl&gt; | chol_max &lt;dbl&gt; | chol_min &lt;dbl&gt; | chol_mean &lt;dbl&gt; | thalach_max &lt;dbl&gt; | thalach_min &lt;dbl&gt; | thalach_mean &lt;dbl&gt; | oldpeak_max &lt;dbl&gt; | oldpeak_min &lt;dbl&gt; | oldpeak_mean &lt;dbl&gt; |\n",
       "|---|---|---|---|---|---|---|---|---|---|---|---|---|---|---|\n",
       "| 65 | 28 | 46.75595 | 190 | -9 | 129.4702 | 412 | -9 | 224.7083 | 190 | -9 | 142.6667 | 3 | 0 | 0.3363095 |\n",
       "\n"
      ],
      "text/plain": [
       "  age_max age_min age_mean trestbps_max trestbps_min trestbps_mean chol_max\n",
       "1 65      28      46.75595 190          -9           129.4702      412     \n",
       "  chol_min chol_mean thalach_max thalach_min thalach_mean oldpeak_max\n",
       "1 -9       224.7083  190         -9          142.6667     3          \n",
       "  oldpeak_min oldpeak_mean\n",
       "1 0           0.3363095   "
      ]
     },
     "metadata": {},
     "output_type": "display_data"
    }
   ],
   "source": [
    "hungarian_5predictors_all_summary"
   ]
  },
  {
   "cell_type": "code",
   "execution_count": 197,
   "id": "97991416-40de-472c-a6a1-265dd38c221c",
   "metadata": {},
   "outputs": [
    {
     "data": {
      "text/html": [
       "<table class=\"dataframe\">\n",
       "<caption>A tibble: 1 × 15</caption>\n",
       "<thead>\n",
       "\t<tr><th scope=col>age_max_diagnosed</th><th scope=col>age_min_diagnosed</th><th scope=col>age_mean_diagnosed</th><th scope=col>trestbps_max_diagnosed</th><th scope=col>trestbps_min_diagnosed</th><th scope=col>trestbps_mean_diagnosed</th><th scope=col>chol_max_diagnosed</th><th scope=col>chol_min_diagnosed</th><th scope=col>chol_mean_diagnosed</th><th scope=col>thalach_max_diagnosed</th><th scope=col>thalach_min_diagnosed</th><th scope=col>thalach_mean_diagnosed</th><th scope=col>oldpeak_max_diagnosed</th><th scope=col>oldpeak_min_diagnosed</th><th scope=col>oldpeak_mean_diagnosed</th></tr>\n",
       "\t<tr><th scope=col>&lt;dbl&gt;</th><th scope=col>&lt;dbl&gt;</th><th scope=col>&lt;dbl&gt;</th><th scope=col>&lt;dbl&gt;</th><th scope=col>&lt;dbl&gt;</th><th scope=col>&lt;dbl&gt;</th><th scope=col>&lt;dbl&gt;</th><th scope=col>&lt;dbl&gt;</th><th scope=col>&lt;dbl&gt;</th><th scope=col>&lt;dbl&gt;</th><th scope=col>&lt;dbl&gt;</th><th scope=col>&lt;dbl&gt;</th><th scope=col>&lt;dbl&gt;</th><th scope=col>&lt;dbl&gt;</th><th scope=col>&lt;dbl&gt;</th></tr>\n",
       "</thead>\n",
       "<tbody>\n",
       "\t<tr><td>65</td><td>31</td><td>46.88889</td><td>160</td><td>92</td><td>129.3333</td><td>338</td><td>117</td><td>238.8519</td><td>180</td><td>87</td><td>138.1852</td><td>3</td><td>0</td><td>0.962963</td></tr>\n",
       "</tbody>\n",
       "</table>\n"
      ],
      "text/latex": [
       "A tibble: 1 × 15\n",
       "\\begin{tabular}{lllllllllllllll}\n",
       " age\\_max\\_diagnosed & age\\_min\\_diagnosed & age\\_mean\\_diagnosed & trestbps\\_max\\_diagnosed & trestbps\\_min\\_diagnosed & trestbps\\_mean\\_diagnosed & chol\\_max\\_diagnosed & chol\\_min\\_diagnosed & chol\\_mean\\_diagnosed & thalach\\_max\\_diagnosed & thalach\\_min\\_diagnosed & thalach\\_mean\\_diagnosed & oldpeak\\_max\\_diagnosed & oldpeak\\_min\\_diagnosed & oldpeak\\_mean\\_diagnosed\\\\\n",
       " <dbl> & <dbl> & <dbl> & <dbl> & <dbl> & <dbl> & <dbl> & <dbl> & <dbl> & <dbl> & <dbl> & <dbl> & <dbl> & <dbl> & <dbl>\\\\\n",
       "\\hline\n",
       "\t 65 & 31 & 46.88889 & 160 & 92 & 129.3333 & 338 & 117 & 238.8519 & 180 & 87 & 138.1852 & 3 & 0 & 0.962963\\\\\n",
       "\\end{tabular}\n"
      ],
      "text/markdown": [
       "\n",
       "A tibble: 1 × 15\n",
       "\n",
       "| age_max_diagnosed &lt;dbl&gt; | age_min_diagnosed &lt;dbl&gt; | age_mean_diagnosed &lt;dbl&gt; | trestbps_max_diagnosed &lt;dbl&gt; | trestbps_min_diagnosed &lt;dbl&gt; | trestbps_mean_diagnosed &lt;dbl&gt; | chol_max_diagnosed &lt;dbl&gt; | chol_min_diagnosed &lt;dbl&gt; | chol_mean_diagnosed &lt;dbl&gt; | thalach_max_diagnosed &lt;dbl&gt; | thalach_min_diagnosed &lt;dbl&gt; | thalach_mean_diagnosed &lt;dbl&gt; | oldpeak_max_diagnosed &lt;dbl&gt; | oldpeak_min_diagnosed &lt;dbl&gt; | oldpeak_mean_diagnosed &lt;dbl&gt; |\n",
       "|---|---|---|---|---|---|---|---|---|---|---|---|---|---|---|\n",
       "| 65 | 31 | 46.88889 | 160 | 92 | 129.3333 | 338 | 117 | 238.8519 | 180 | 87 | 138.1852 | 3 | 0 | 0.962963 |\n",
       "\n"
      ],
      "text/plain": [
       "  age_max_diagnosed age_min_diagnosed age_mean_diagnosed trestbps_max_diagnosed\n",
       "1 65                31                46.88889           160                   \n",
       "  trestbps_min_diagnosed trestbps_mean_diagnosed chol_max_diagnosed\n",
       "1 92                     129.3333                338               \n",
       "  chol_min_diagnosed chol_mean_diagnosed thalach_max_diagnosed\n",
       "1 117                238.8519            180                  \n",
       "  thalach_min_diagnosed thalach_mean_diagnosed oldpeak_max_diagnosed\n",
       "1 87                    138.1852               3                    \n",
       "  oldpeak_min_diagnosed oldpeak_mean_diagnosed\n",
       "1 0                     0.962963              "
      ]
     },
     "metadata": {},
     "output_type": "display_data"
    }
   ],
   "source": [
    "hungarian_5predictors_diagnosed_summary"
   ]
  },
  {
   "cell_type": "markdown",
   "id": "ca351a93-875e-40d8-92e3-e7fc7c17c8ed",
   "metadata": {},
   "source": [
    "-------------------------------------------------------------------------------------------------------------------------------"
   ]
  },
  {
   "cell_type": "markdown",
   "id": "09eb95b9-a6f4-4c4c-af29-05b19690f362",
   "metadata": {},
   "source": [
    "### Visualization of the five predictors for the four datasets\n"
   ]
  },
  {
   "cell_type": "code",
   "execution_count": null,
   "id": "93099817-3542-440e-8240-d84abbca4f93",
   "metadata": {},
   "outputs": [],
   "source": [
    "hungarian_training|>ggplot(aes(x=age,y=trestbps,f=))+\n",
    "geom_point()+\n",
    "labs(x=\"Age\")\n"
   ]
  },
  {
   "cell_type": "code",
   "execution_count": null,
   "id": "3cb984de-b1e8-4a58-bf48-41287c050606",
   "metadata": {},
   "outputs": [],
   "source": []
  },
  {
   "cell_type": "code",
   "execution_count": 87,
   "id": "37b9203c-b3d0-4ee4-9b4d-b1adab64a9a0",
   "metadata": {},
   "outputs": [],
   "source": [
    "cp_num_cleaveland<-cleaveland_mutate|>\n",
    "ggplot(aes(x=cp,fill= num))+\n",
    "geom_bar(position=\"dodge\")+\n",
    "labs(x=\"Chest Pain Type\",y=\"Frequency\",fill=\"Diagonsis of heart disease\")\n",
    "\n",
    "cp_num_switzerland<-switzerland_mutate|>\n",
    "ggplot(aes(x=cp,fill= num))+\n",
    "geom_bar(position=\"dodge\")+\n",
    "labs(x=\"Chest Pain Type\",y=\"Frequency\",fill=\"Diagonsis of heart disease\")+\n",
    "ggtitle(\"cp_num_switzerland\")\n",
    "\n",
    "cp_num_va<-va_mutate|>\n",
    "ggplot(aes(x=cp,fill= num))+\n",
    "geom_bar(position=\"dodge\")+\n",
    "labs(x=\"Chest Pain Type\",y=\"Frequency\",fill=\"Diagonsis of heart disease\")+\n",
    "ggtitle(\"cp_num_va\")\n",
    "\n",
    "cp_num_hungarian<-hungarian_mutate|>\n",
    "ggplot(aes(x=cp,fill= num))+\n",
    "geom_bar(position=\"dodge\")+\n",
    "labs(x=\"Chest Pain Type\",y=\"Frequency\",fill=\"Diagonsis of heart disease\")+\n",
    "ggtitle(\"cp_num_hungarian\")"
   ]
  },
  {
   "cell_type": "code",
   "execution_count": 36,
   "id": "079c600d-9a6c-4404-a3e2-ad580628118c",
   "metadata": {},
   "outputs": [
    {
     "data": {
      "text/html": [
       "'Compare cp_num for 4 regions'"
      ],
      "text/latex": [
       "'Compare cp\\_num for 4 regions'"
      ],
      "text/markdown": [
       "'Compare cp_num for 4 regions'"
      ],
      "text/plain": [
       "[1] \"Compare cp_num for 4 regions\""
      ]
     },
     "metadata": {},
     "output_type": "display_data"
    },
    {
     "data": {
      "image/png": "[encoded data removed]",
      "text/plain": [
       "plot without title"
      ]
     },
     "metadata": {
      "image/png": {
       "height": 420,
       "width": 420
      }
     },
     "output_type": "display_data"
    },
    {
     "data": {
      "image/png": "[encoded data removed]",
      "text/plain": [
       "plot without title"
      ]
     },
     "metadata": {
      "image/png": {
       "height": 420,
       "width": 420
      }
     },
     "output_type": "display_data"
    },
    {
     "data": {
      "image/png": "[encoded data removed]",
      "text/plain": [
       "plot without title"
      ]
     },
     "metadata": {
      "image/png": {
       "height": 420,
       "width": 420
      }
     },
     "output_type": "display_data"
    },
    {
     "data": {
      "image/png": "[encoded data removed]",
      "text/plain": [
       "plot without title"
      ]
     },
     "metadata": {
      "image/png": {
       "height": 420,
       "width": 420
      }
     },
     "output_type": "display_data"
    }
   ],
   "source": [
    "\"Compare cp_num for 4 regions\"\n",
    "cp_num_cleaveland\n",
    "cp_num_switzerland\n",
    "cp_num_va\n",
    "cp_num_hungarian"
   ]
  },
  {
   "cell_type": "code",
   "execution_count": null,
   "id": "dc8f9c63-2925-4a22-8a8b-dc104d572606",
   "metadata": {},
   "outputs": [],
   "source": []
  },
  {
   "cell_type": "code",
   "execution_count": null,
   "id": "5a77a31e-fa83-4a7f-8c9a-8eaaab4f3d1b",
   "metadata": {},
   "outputs": [],
   "source": []
  },
  {
   "cell_type": "code",
   "execution_count": null,
   "id": "ad77aa6e-a908-4ee3-906c-7e5e0c19dbe0",
   "metadata": {},
   "outputs": [],
   "source": []
  },
  {
   "cell_type": "markdown",
   "id": "93e5ec48-368b-44f4-a6e1-0d04ca9e398d",
   "metadata": {},
   "source": [
    "\n",
    "\"levels(cleaveland_mutate$num) <- c(\"No Heart Disease\", \"Heart Disease\")  # changes 1,2,3 to alphabets\n",
    "levels(cleaveland_mutate$thal) <- c(\"Normal\", \"Fixed Defect\", \"Reversaable Defect\")\n",
    "levels(cleaveland_mutate$slope) <- c(\"upsloping\", \"flat\", \"downsloping\")\n",
    "levels(cleaveland_mutate$exang) <- c(\"Yes\", \"No\")\n",
    "levels(cleaveland_mutate$restecg) <- c(\"Normal\", \"ST-T wave abnormality\")\n",
    "levels(cleaveland_mutate$fbs) <- c(\"true\", \"false\")\n",
    "levels(cleaveland_mutate$cp) <- c(\"typical angina\", \"atypical angina\", \"non-anginal pain\", \"aaasymptomatic\")\n",
    "levels(cleaveland_mutate$sex) <- c(\"Female\", \"Male\")\"\n",
    "\n",
    "\n",
    "heart_split <- initial_split(cleaveland_mutate, prop = 0.75, strata = num)\n",
    "heart_training <- training(heart_split)\n",
    "heart_testing <- testing(heart_split)\n",
    "\n",
    "knn_recipe <- recipe(num ~ age + trestbps + chol + thalach + oldpeak, data = heart_training)|>\n",
    "step_scale(all_predictors())|>\n",
    "step_center(all_predictors())\n",
    "\n",
    "\n",
    "\n",
    "knn_spec <- nearest_neighbor(weight_func = \"rectangular\", neighbors = tune())|>\n",
    "set_engine(\"kknn\")|>\n",
    "set_mode(\"classification\")\n",
    "\n",
    "heart_vfold <- vfold_cv(heart_training, v = 5, strata = num)\n",
    "\n",
    "k_vals <- (tibble(neighbors=1:30))\n",
    "\n",
    "knn_results <- workflow()|>\n",
    "add_recipe(knn_recipe)|>\n",
    "add_model(knn_spec)|>\n",
    "tune_grid(resamples = heart_vfold, grid = k_vals)|>\n",
    "collect_metrics()\n",
    "                 \n",
    "                 \n",
    "accuracies <- knn_results |>\n",
    "                 filter(.metric == \"accuracy\")\n",
    "                \n",
    "accuracies\n",
    "         \n"
   ]
  },
  {
   "cell_type": "markdown",
   "id": "cfcfaa9d-25ae-4282-82a0-e3f359645740",
   "metadata": {},
   "source": [
    "\n",
    "\n",
    "knn_spec1 <- nearest_neighbor(weight_func = \"rectangular\", neighbors = 18)|>\n",
    "set_engine(\"kknn\")|>\n",
    "set_mode(\"classification\")\n",
    "\n",
    "\n",
    "knn_fit1 <- workflow()|>\n",
    "add_recipe(knn_recipe)|>\n",
    "add_model(knn_spec1)|>\n",
    "fit(data = heart_training)\n",
    "                 \n",
    "\n",
    "heart_test_predictions <- predict(knn_fit1, heart_testing)|>\n",
    "bind_cols(heart_testing)\n",
    "\n",
    "heart_test_predictions|>\n",
    "metrics(truth = num, estimate = .pred_class) |>\n",
    "filter(.metric ==\"accuracy\")\n",
    "\n"
   ]
  }
 ],
 "metadata": {
  "kernelspec": {
   "display_name": "R",
   "language": "R",
   "name": "ir"
  },
  "language_info": {
   "codemirror_mode": "r",
   "file_extension": ".r",
   "mimetype": "text/x-r-source",
   "name": "R",
   "pygments_lexer": "r",
   "version": "4.1.3"
  }
 },
 "nbformat": 4,
 "nbformat_minor": 5
}
